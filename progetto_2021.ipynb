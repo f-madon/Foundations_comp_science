{
 "cells": [
  {
   "cell_type": "markdown",
   "metadata": {},
   "source": [
    "# Progetto di Madon Federica 825628"
   ]
  },
  {
   "cell_type": "markdown",
   "metadata": {},
   "source": [
    "### Importazione dei pacchetti e dei dataset. Informazioni dataset."
   ]
  },
  {
   "cell_type": "code",
   "execution_count": 1,
   "metadata": {},
   "outputs": [],
   "source": [
    "import pandas as pd"
   ]
  },
  {
   "cell_type": "code",
   "execution_count": 2,
   "metadata": {},
   "outputs": [],
   "source": [
    "#Le opzioni in read_csv sono per unzippare i file\n",
    "books = pd.read_csv('https://github.com/gdv/foundationsCS/raw/master/progetti/2021/Books.csv.gz', encoding = 'latin-1', compression = 'gzip', header = 0, sep = ';', quotechar = '\"', low_memory = False)\n",
    "books_ratings = pd.read_csv('https://github.com/gdv/foundationsCS/raw/master/progetti/2021/Book-Ratings.csv.gz', encoding = 'latin-1', compression = 'gzip', header = 0, sep = ';', quotechar = '\"', low_memory = False)\n",
    "users = pd.read_csv('https://github.com/gdv/foundationsCS/raw/master/progetti/2021/Users.csv.gz', encoding = 'latin-1', compression = 'gzip', header = 0, sep = ';', quotechar = '\"', low_memory = False)\n",
    "goodbooks = pd.read_csv('https://github.com/gdv/foundationsCS/raw/master/progetti/2021/goodbooks.csv.gz', encoding = 'latin-1', compression = 'gzip', header = 0, sep = ',', quotechar = '\"', low_memory = False)\n",
    "goodbooks_ratings = pd.read_csv('https://github.com/gdv/foundationsCS/raw/master/progetti/2021/goodbooks-ratings.csv.gz', encoding = 'latin-1', compression = 'gzip', header = 0, sep = ',', quotechar = '\"', low_memory = False)"
   ]
  },
  {
   "cell_type": "code",
   "execution_count": 3,
   "metadata": {},
   "outputs": [
    {
     "name": "stdout",
     "output_type": "stream",
     "text": [
      "Dimensioni books: (271359, 8)\n",
      "Dimensioni books_ratings: (1149780, 3)\n",
      "Dimensioni users: (278858, 3)\n",
      "Dimensioni goodbooks: (99, 23)\n",
      "Dimensioni goodbooks_ratings: (99, 3)\n"
     ]
    }
   ],
   "source": [
    "#Controllo dimensioni dataset\n",
    "print(f\"Dimensioni books: {books.shape}\")\n",
    "print(f\"Dimensioni books_ratings: {books_ratings.shape}\")\n",
    "print(f\"Dimensioni users: {users.shape}\")\n",
    "print(f\"Dimensioni goodbooks: {goodbooks.shape}\")\n",
    "print(f\"Dimensioni goodbooks_ratings: {goodbooks_ratings.shape}\")"
   ]
  },
  {
   "cell_type": "markdown",
   "metadata": {},
   "source": [
    "In seguito analizzo le informazioni dei 5 dataset."
   ]
  },
  {
   "cell_type": "code",
   "execution_count": 4,
   "metadata": {
    "scrolled": true
   },
   "outputs": [
    {
     "name": "stdout",
     "output_type": "stream",
     "text": [
      "<class 'pandas.core.frame.DataFrame'>\n",
      "RangeIndex: 271359 entries, 0 to 271358\n",
      "Data columns (total 8 columns):\n",
      " #   Column               Non-Null Count   Dtype \n",
      "---  ------               --------------   ----- \n",
      " 0   ISBN                 271359 non-null  object\n",
      " 1   Book-Title           271359 non-null  object\n",
      " 2   Book-Author          271358 non-null  object\n",
      " 3   Year-Of-Publication  271359 non-null  object\n",
      " 4   Publisher            271357 non-null  object\n",
      " 5   Image-URL-S          271359 non-null  object\n",
      " 6   Image-URL-M          271359 non-null  object\n",
      " 7   Image-URL-L          271356 non-null  object\n",
      "dtypes: object(8)\n",
      "memory usage: 16.6+ MB\n"
     ]
    }
   ],
   "source": [
    "books.info()"
   ]
  },
  {
   "cell_type": "code",
   "execution_count": 5,
   "metadata": {
    "scrolled": true
   },
   "outputs": [
    {
     "name": "stdout",
     "output_type": "stream",
     "text": [
      "<class 'pandas.core.frame.DataFrame'>\n",
      "RangeIndex: 1149780 entries, 0 to 1149779\n",
      "Data columns (total 3 columns):\n",
      " #   Column       Non-Null Count    Dtype \n",
      "---  ------       --------------    ----- \n",
      " 0   User-ID      1149780 non-null  int64 \n",
      " 1   ISBN         1149780 non-null  object\n",
      " 2   Book-Rating  1149780 non-null  int64 \n",
      "dtypes: int64(2), object(1)\n",
      "memory usage: 26.3+ MB\n"
     ]
    }
   ],
   "source": [
    "books_ratings.info()"
   ]
  },
  {
   "cell_type": "code",
   "execution_count": 6,
   "metadata": {
    "scrolled": true
   },
   "outputs": [
    {
     "name": "stdout",
     "output_type": "stream",
     "text": [
      "<class 'pandas.core.frame.DataFrame'>\n",
      "RangeIndex: 278858 entries, 0 to 278857\n",
      "Data columns (total 3 columns):\n",
      " #   Column    Non-Null Count   Dtype  \n",
      "---  ------    --------------   -----  \n",
      " 0   User-ID   278858 non-null  int64  \n",
      " 1   Location  278858 non-null  object \n",
      " 2   Age       168096 non-null  float64\n",
      "dtypes: float64(1), int64(1), object(1)\n",
      "memory usage: 6.4+ MB\n"
     ]
    }
   ],
   "source": [
    "users.info()"
   ]
  },
  {
   "cell_type": "code",
   "execution_count": 7,
   "metadata": {
    "scrolled": true
   },
   "outputs": [
    {
     "name": "stdout",
     "output_type": "stream",
     "text": [
      "<class 'pandas.core.frame.DataFrame'>\n",
      "RangeIndex: 99 entries, 0 to 98\n",
      "Data columns (total 23 columns):\n",
      " #   Column                     Non-Null Count  Dtype  \n",
      "---  ------                     --------------  -----  \n",
      " 0   book_id                    99 non-null     int64  \n",
      " 1   goodreads_book_id          99 non-null     int64  \n",
      " 2   best_book_id               99 non-null     int64  \n",
      " 3   work_id                    99 non-null     int64  \n",
      " 4   books_count                99 non-null     int64  \n",
      " 5   isbn                       99 non-null     object \n",
      " 6   isbn13                     99 non-null     float64\n",
      " 7   authors                    99 non-null     object \n",
      " 8   original_publication_year  99 non-null     float64\n",
      " 9   original_title             98 non-null     object \n",
      " 10  title                      99 non-null     object \n",
      " 11  language_code              98 non-null     object \n",
      " 12  average_rating             99 non-null     float64\n",
      " 13  ratings_count              99 non-null     int64  \n",
      " 14  work_ratings_count         99 non-null     int64  \n",
      " 15  work_text_reviews_count    99 non-null     int64  \n",
      " 16  ratings_1                  99 non-null     int64  \n",
      " 17  ratings_2                  99 non-null     int64  \n",
      " 18  ratings_3                  99 non-null     int64  \n",
      " 19  ratings_4                  99 non-null     int64  \n",
      " 20  ratings_5                  99 non-null     int64  \n",
      " 21  image_url                  99 non-null     object \n",
      " 22  small_image_url            99 non-null     object \n",
      "dtypes: float64(3), int64(13), object(7)\n",
      "memory usage: 17.9+ KB\n"
     ]
    }
   ],
   "source": [
    "goodbooks.info()"
   ]
  },
  {
   "cell_type": "code",
   "execution_count": 8,
   "metadata": {},
   "outputs": [
    {
     "name": "stdout",
     "output_type": "stream",
     "text": [
      "<class 'pandas.core.frame.DataFrame'>\n",
      "RangeIndex: 99 entries, 0 to 98\n",
      "Data columns (total 3 columns):\n",
      " #   Column   Non-Null Count  Dtype\n",
      "---  ------   --------------  -----\n",
      " 0   user_id  99 non-null     int64\n",
      " 1   book_id  99 non-null     int64\n",
      " 2   rating   99 non-null     int64\n",
      "dtypes: int64(3)\n",
      "memory usage: 2.4 KB\n"
     ]
    }
   ],
   "source": [
    "goodbooks_ratings.info()"
   ]
  },
  {
   "cell_type": "markdown",
   "metadata": {},
   "source": [
    "### 1. Normalize the location field of *Users* dataset, splitting into city, region, country."
   ]
  },
  {
   "cell_type": "code",
   "execution_count": 9,
   "metadata": {},
   "outputs": [
    {
     "data": {
      "text/html": [
       "<div>\n",
       "<style scoped>\n",
       "    .dataframe tbody tr th:only-of-type {\n",
       "        vertical-align: middle;\n",
       "    }\n",
       "\n",
       "    .dataframe tbody tr th {\n",
       "        vertical-align: top;\n",
       "    }\n",
       "\n",
       "    .dataframe thead th {\n",
       "        text-align: right;\n",
       "    }\n",
       "</style>\n",
       "<table border=\"1\" class=\"dataframe\">\n",
       "  <thead>\n",
       "    <tr style=\"text-align: right;\">\n",
       "      <th></th>\n",
       "      <th>User-ID</th>\n",
       "      <th>Location</th>\n",
       "      <th>Age</th>\n",
       "    </tr>\n",
       "  </thead>\n",
       "  <tbody>\n",
       "    <tr>\n",
       "      <th>0</th>\n",
       "      <td>1</td>\n",
       "      <td>nyc, new york, usa</td>\n",
       "      <td>NaN</td>\n",
       "    </tr>\n",
       "    <tr>\n",
       "      <th>1</th>\n",
       "      <td>2</td>\n",
       "      <td>stockton, california, usa</td>\n",
       "      <td>18.0</td>\n",
       "    </tr>\n",
       "  </tbody>\n",
       "</table>\n",
       "</div>"
      ],
      "text/plain": [
       "   User-ID                   Location   Age\n",
       "0        1         nyc, new york, usa   NaN\n",
       "1        2  stockton, california, usa  18.0"
      ]
     },
     "execution_count": 9,
     "metadata": {},
     "output_type": "execute_result"
    }
   ],
   "source": [
    "users.head(2)"
   ]
  },
  {
   "cell_type": "markdown",
   "metadata": {},
   "source": [
    "Il campo Location contiene dei valori con dei problemi di consistenza, nel senso che non tutte le righe hanno questo attributo scritto correttamente come città, regione, nazione. Il numero di virgole mi dice in totale quante stringhe ci sono in una cella. Ci sono più di 1500 campi con più di due virgole e due con meno."
   ]
  },
  {
   "cell_type": "code",
   "execution_count": 10,
   "metadata": {},
   "outputs": [
    {
     "data": {
      "text/plain": [
       "1508"
      ]
     },
     "execution_count": 10,
     "metadata": {},
     "output_type": "execute_result"
    }
   ],
   "source": [
    "#Più di tre stringhe nel campo location\n",
    "len(users['Location'][(users['Location'].str.count(',')) > 2].tolist())"
   ]
  },
  {
   "cell_type": "code",
   "execution_count": 11,
   "metadata": {},
   "outputs": [
    {
     "data": {
      "text/plain": [
       "1398"
      ]
     },
     "execution_count": 11,
     "metadata": {},
     "output_type": "execute_result"
    }
   ],
   "source": [
    "#Controllo se tra questi 1508 ci sono duplicati\n",
    "len(users['Location'][(users['Location'].str.count(',')) > 2].unique().tolist())"
   ]
  },
  {
   "cell_type": "code",
   "execution_count": 12,
   "metadata": {},
   "outputs": [
    {
     "data": {
      "text/plain": [
       "2"
      ]
     },
     "execution_count": 12,
     "metadata": {},
     "output_type": "execute_result"
    }
   ],
   "source": [
    "#Meno di tre stringhe nel campo location\n",
    "len(users['Location'][(users['Location'].str.count(',')) < 2].tolist())"
   ]
  },
  {
   "cell_type": "code",
   "execution_count": 13,
   "metadata": {},
   "outputs": [
    {
     "data": {
      "text/html": [
       "<div>\n",
       "<style scoped>\n",
       "    .dataframe tbody tr th:only-of-type {\n",
       "        vertical-align: middle;\n",
       "    }\n",
       "\n",
       "    .dataframe tbody tr th {\n",
       "        vertical-align: top;\n",
       "    }\n",
       "\n",
       "    .dataframe thead th {\n",
       "        text-align: right;\n",
       "    }\n",
       "</style>\n",
       "<table border=\"1\" class=\"dataframe\">\n",
       "  <thead>\n",
       "    <tr style=\"text-align: right;\">\n",
       "      <th></th>\n",
       "      <th>User-ID</th>\n",
       "      <th>Location</th>\n",
       "      <th>Age</th>\n",
       "    </tr>\n",
       "  </thead>\n",
       "  <tbody>\n",
       "    <tr>\n",
       "      <th>29419</th>\n",
       "      <td>29420</td>\n",
       "      <td>st. louis, missouri</td>\n",
       "      <td>68.0</td>\n",
       "    </tr>\n",
       "    <tr>\n",
       "      <th>134376</th>\n",
       "      <td>134377</td>\n",
       "      <td>lawrenceville</td>\n",
       "      <td>30.0</td>\n",
       "    </tr>\n",
       "  </tbody>\n",
       "</table>\n",
       "</div>"
      ],
      "text/plain": [
       "        User-ID             Location   Age\n",
       "29419     29420  st. louis, missouri  68.0\n",
       "134376   134377        lawrenceville  30.0"
      ]
     },
     "execution_count": 13,
     "metadata": {},
     "output_type": "execute_result"
    }
   ],
   "source": [
    "#Visualizzo le righe con meno virgole\n",
    "users.iloc[users['Location'][(users['Location'].str.count(',')) < 2].index]"
   ]
  },
  {
   "cell_type": "code",
   "execution_count": 14,
   "metadata": {},
   "outputs": [
    {
     "data": {
      "text/html": [
       "<div>\n",
       "<style scoped>\n",
       "    .dataframe tbody tr th:only-of-type {\n",
       "        vertical-align: middle;\n",
       "    }\n",
       "\n",
       "    .dataframe tbody tr th {\n",
       "        vertical-align: top;\n",
       "    }\n",
       "\n",
       "    .dataframe thead th {\n",
       "        text-align: right;\n",
       "    }\n",
       "</style>\n",
       "<table border=\"1\" class=\"dataframe\">\n",
       "  <thead>\n",
       "    <tr style=\"text-align: right;\">\n",
       "      <th></th>\n",
       "      <th>User-ID</th>\n",
       "      <th>Location</th>\n",
       "      <th>Age</th>\n",
       "    </tr>\n",
       "  </thead>\n",
       "  <tbody>\n",
       "    <tr>\n",
       "      <th>29419</th>\n",
       "      <td>29420</td>\n",
       "      <td>st. louis, st. louis, missouri</td>\n",
       "      <td>68.0</td>\n",
       "    </tr>\n",
       "    <tr>\n",
       "      <th>134376</th>\n",
       "      <td>134377</td>\n",
       "      <td>lawrenceville, georgia, usa</td>\n",
       "      <td>30.0</td>\n",
       "    </tr>\n",
       "  </tbody>\n",
       "</table>\n",
       "</div>"
      ],
      "text/plain": [
       "        User-ID                        Location   Age\n",
       "29419     29420  st. louis, st. louis, missouri  68.0\n",
       "134376   134377     lawrenceville, georgia, usa  30.0"
      ]
     },
     "execution_count": 14,
     "metadata": {},
     "output_type": "execute_result"
    }
   ],
   "source": [
    "#Correggo le due righe in esame\n",
    "users.loc[29419, 'Location'] = 'st. louis, st. louis, missouri'\n",
    "users.loc[134376, 'Location'] = 'lawrenceville, georgia, usa'\n",
    "#Ricontrollo\n",
    "users.iloc[[29419, 134376]]"
   ]
  },
  {
   "cell_type": "code",
   "execution_count": 15,
   "metadata": {},
   "outputs": [
    {
     "data": {
      "text/html": [
       "<div>\n",
       "<style scoped>\n",
       "    .dataframe tbody tr th:only-of-type {\n",
       "        vertical-align: middle;\n",
       "    }\n",
       "\n",
       "    .dataframe tbody tr th {\n",
       "        vertical-align: top;\n",
       "    }\n",
       "\n",
       "    .dataframe thead th {\n",
       "        text-align: right;\n",
       "    }\n",
       "</style>\n",
       "<table border=\"1\" class=\"dataframe\">\n",
       "  <thead>\n",
       "    <tr style=\"text-align: right;\">\n",
       "      <th></th>\n",
       "      <th>User-ID</th>\n",
       "      <th>Location</th>\n",
       "      <th>Age</th>\n",
       "    </tr>\n",
       "  </thead>\n",
       "  <tbody>\n",
       "  </tbody>\n",
       "</table>\n",
       "</div>"
      ],
      "text/plain": [
       "Empty DataFrame\n",
       "Columns: [User-ID, Location, Age]\n",
       "Index: []"
      ]
     },
     "execution_count": 15,
     "metadata": {},
     "output_type": "execute_result"
    }
   ],
   "source": [
    "#Visualizzo se ho corretto queste due righe\n",
    "users.iloc[users['Location'][(users['Location'].str.count(',')) < 2].index]"
   ]
  },
  {
   "cell_type": "markdown",
   "metadata": {},
   "source": [
    "Per quanto riguarda i campi con più virgole ci sono tre opzioni:\n",
    "1.   Eliminare le righe, considerando la mole del dataset;\n",
    "2.   Ignorare il problema;\n",
    "3.   Correggere i 1500 e passa valori.\n",
    "\n",
    "Ho deciso di eliminare le righe, perché correggere tutti valori non mi sembra il caso (in ambito lavorativo avrei dovuto pensarci di più). Presento, inoltre, anche l'opzione due, anche se è un errore, poiché non so se posso eliminare le righe."
   ]
  },
  {
   "cell_type": "code",
   "execution_count": 16,
   "metadata": {},
   "outputs": [
    {
     "data": {
      "text/html": [
       "<div>\n",
       "<style scoped>\n",
       "    .dataframe tbody tr th:only-of-type {\n",
       "        vertical-align: middle;\n",
       "    }\n",
       "\n",
       "    .dataframe tbody tr th {\n",
       "        vertical-align: top;\n",
       "    }\n",
       "\n",
       "    .dataframe thead th {\n",
       "        text-align: right;\n",
       "    }\n",
       "</style>\n",
       "<table border=\"1\" class=\"dataframe\">\n",
       "  <thead>\n",
       "    <tr style=\"text-align: right;\">\n",
       "      <th></th>\n",
       "      <th>User-ID</th>\n",
       "      <th>Location</th>\n",
       "      <th>Age</th>\n",
       "    </tr>\n",
       "  </thead>\n",
       "  <tbody>\n",
       "  </tbody>\n",
       "</table>\n",
       "</div>"
      ],
      "text/plain": [
       "Empty DataFrame\n",
       "Columns: [User-ID, Location, Age]\n",
       "Index: []"
      ]
     },
     "execution_count": 16,
     "metadata": {},
     "output_type": "execute_result"
    }
   ],
   "source": [
    "#Decido di eliminare quelle con numero di virgole maggiori considerando la mole del dataset\n",
    "users_elimin = users.drop(users.index[users['Location'].str.count(',') > 2])\n",
    "#Ricontrollo il problema delle virgole nel nuovo dataset\n",
    "users_elimin.iloc[users_elimin['Location'][(users_elimin['Location'].str.count(',')) > 2]]"
   ]
  },
  {
   "cell_type": "code",
   "execution_count": 17,
   "metadata": {
    "scrolled": true
   },
   "outputs": [
    {
     "data": {
      "text/html": [
       "<div>\n",
       "<style scoped>\n",
       "    .dataframe tbody tr th:only-of-type {\n",
       "        vertical-align: middle;\n",
       "    }\n",
       "\n",
       "    .dataframe tbody tr th {\n",
       "        vertical-align: top;\n",
       "    }\n",
       "\n",
       "    .dataframe thead th {\n",
       "        text-align: right;\n",
       "    }\n",
       "</style>\n",
       "<table border=\"1\" class=\"dataframe\">\n",
       "  <thead>\n",
       "    <tr style=\"text-align: right;\">\n",
       "      <th></th>\n",
       "      <th>User-ID</th>\n",
       "      <th>Location</th>\n",
       "      <th>Age</th>\n",
       "      <th>City</th>\n",
       "      <th>Region</th>\n",
       "      <th>Country</th>\n",
       "    </tr>\n",
       "  </thead>\n",
       "  <tbody>\n",
       "    <tr>\n",
       "      <th>0</th>\n",
       "      <td>1</td>\n",
       "      <td>nyc, new york, usa</td>\n",
       "      <td>NaN</td>\n",
       "      <td>nyc</td>\n",
       "      <td>new york</td>\n",
       "      <td>usa</td>\n",
       "    </tr>\n",
       "    <tr>\n",
       "      <th>1</th>\n",
       "      <td>2</td>\n",
       "      <td>stockton, california, usa</td>\n",
       "      <td>18.0</td>\n",
       "      <td>stockton</td>\n",
       "      <td>california</td>\n",
       "      <td>usa</td>\n",
       "    </tr>\n",
       "  </tbody>\n",
       "</table>\n",
       "</div>"
      ],
      "text/plain": [
       "   User-ID                   Location   Age      City       Region Country\n",
       "0        1         nyc, new york, usa   NaN       nyc     new york     usa\n",
       "1        2  stockton, california, usa  18.0  stockton   california     usa"
      ]
     },
     "execution_count": 17,
     "metadata": {},
     "output_type": "execute_result"
    }
   ],
   "source": [
    "#Divido la stringa e salvo i vari pezzi in un dataframe con tre colonne diverse\n",
    "divise = users_elimin.Location.str.split(',', expand = True)\n",
    "users_elimin['City'] = divise[0]\n",
    "users_elimin['Region'] = divise[1]\n",
    "users_elimin['Country'] = divise[2]\n",
    "#Resetto l'indice perché ho eliminato delle righe\n",
    "users_elimin.reset_index(inplace = True, drop = True)\n",
    "users_elimin.head(2)"
   ]
  },
  {
   "cell_type": "code",
   "execution_count": 18,
   "metadata": {
    "scrolled": true
   },
   "outputs": [
    {
     "data": {
      "text/html": [
       "<div>\n",
       "<style scoped>\n",
       "    .dataframe tbody tr th:only-of-type {\n",
       "        vertical-align: middle;\n",
       "    }\n",
       "\n",
       "    .dataframe tbody tr th {\n",
       "        vertical-align: top;\n",
       "    }\n",
       "\n",
       "    .dataframe thead th {\n",
       "        text-align: right;\n",
       "    }\n",
       "</style>\n",
       "<table border=\"1\" class=\"dataframe\">\n",
       "  <thead>\n",
       "    <tr style=\"text-align: right;\">\n",
       "      <th></th>\n",
       "      <th>User-ID</th>\n",
       "      <th>Location</th>\n",
       "      <th>Age</th>\n",
       "      <th>City</th>\n",
       "      <th>Region</th>\n",
       "      <th>Country</th>\n",
       "    </tr>\n",
       "  </thead>\n",
       "  <tbody>\n",
       "    <tr>\n",
       "      <th>0</th>\n",
       "      <td>1</td>\n",
       "      <td>nyc, new york, usa</td>\n",
       "      <td>NaN</td>\n",
       "      <td>nyc</td>\n",
       "      <td>new york</td>\n",
       "      <td>usa</td>\n",
       "    </tr>\n",
       "    <tr>\n",
       "      <th>1</th>\n",
       "      <td>2</td>\n",
       "      <td>stockton, california, usa</td>\n",
       "      <td>18.0</td>\n",
       "      <td>stockton</td>\n",
       "      <td>california</td>\n",
       "      <td>usa</td>\n",
       "    </tr>\n",
       "  </tbody>\n",
       "</table>\n",
       "</div>"
      ],
      "text/plain": [
       "   User-ID                   Location   Age      City       Region Country\n",
       "0        1         nyc, new york, usa   NaN       nyc     new york     usa\n",
       "1        2  stockton, california, usa  18.0  stockton   california     usa"
      ]
     },
     "execution_count": 18,
     "metadata": {},
     "output_type": "execute_result"
    }
   ],
   "source": [
    "#Faccio la stessa cosa con quello intero\n",
    "divise = users.Location.str.split(',', expand = True)\n",
    "users['City'] = divise[0]\n",
    "users['Region'] = divise[1]\n",
    "users['Country'] = divise[2]\n",
    "users.head(2)"
   ]
  },
  {
   "cell_type": "markdown",
   "metadata": {},
   "source": [
    "### 2. For each book in the *Books* dataset, compute its average rating."
   ]
  },
  {
   "cell_type": "code",
   "execution_count": 19,
   "metadata": {},
   "outputs": [
    {
     "name": "stdout",
     "output_type": "stream",
     "text": [
      "Dimensione tabella books: 271359\n",
      "Totale valori unici ISBN tabella books: 271359\n",
      "Dimensione tabella books_ratings: 1149780\n",
      "Totale valori unici ISBN tabella books_ratings: 340556\n"
     ]
    }
   ],
   "source": [
    "#Controllo se le due tabelle books e books_ratings hanno valori unici per quanto riguarda l'ISBN \n",
    "#rispetto alla dimensione totale dei dataset\n",
    "print(f\"Dimensione tabella books: {len(books)}\")\n",
    "print(f\"Totale valori unici ISBN tabella books: {len(books['ISBN'].unique())}\")\n",
    "print(f\"Dimensione tabella books_ratings: {len(books_ratings)}\")\n",
    "print(f\"Totale valori unici ISBN tabella books_ratings: {len(books_ratings['ISBN'].unique())}\")"
   ]
  },
  {
   "cell_type": "markdown",
   "metadata": {},
   "source": [
    "Perciò nella tabella books_ratings ci sono più votazioni per un singolo libro."
   ]
  },
  {
   "cell_type": "code",
   "execution_count": 20,
   "metadata": {},
   "outputs": [
    {
     "name": "stdout",
     "output_type": "stream",
     "text": [
      "Differenza numero valori ISBN di books e books_ratings: 1209\n",
      "Differenza numero valori ISBN di books_ratings e books: 70406\n"
     ]
    }
   ],
   "source": [
    "#Controllo se i valori di ISBN sono gli stessi per le due tabelle\n",
    "#Uso unique() solo per una tabella, perché l'altra ha tutti valori unici per ISBN\n",
    "print(f\"Differenza numero valori ISBN di books e books_ratings: {len(set(books['ISBN'].unique()) - set(books_ratings['ISBN']))}\")\n",
    "print(f\"Differenza numero valori ISBN di books_ratings e books: {len(set(books_ratings['ISBN'].unique()) - set(books['ISBN']))}\")"
   ]
  },
  {
   "cell_type": "code",
   "execution_count": 21,
   "metadata": {},
   "outputs": [
    {
     "data": {
      "text/html": [
       "<div>\n",
       "<style scoped>\n",
       "    .dataframe tbody tr th:only-of-type {\n",
       "        vertical-align: middle;\n",
       "    }\n",
       "\n",
       "    .dataframe tbody tr th {\n",
       "        vertical-align: top;\n",
       "    }\n",
       "\n",
       "    .dataframe thead th {\n",
       "        text-align: right;\n",
       "    }\n",
       "</style>\n",
       "<table border=\"1\" class=\"dataframe\">\n",
       "  <thead>\n",
       "    <tr style=\"text-align: right;\">\n",
       "      <th></th>\n",
       "      <th>ISBN</th>\n",
       "      <th>Avg-Rating</th>\n",
       "    </tr>\n",
       "  </thead>\n",
       "  <tbody>\n",
       "    <tr>\n",
       "      <th>0</th>\n",
       "      <td>0330299891</td>\n",
       "      <td>3.0</td>\n",
       "    </tr>\n",
       "    <tr>\n",
       "      <th>1</th>\n",
       "      <td>0375404120</td>\n",
       "      <td>1.5</td>\n",
       "    </tr>\n",
       "  </tbody>\n",
       "</table>\n",
       "</div>"
      ],
      "text/plain": [
       "          ISBN  Avg-Rating\n",
       "0   0330299891         3.0\n",
       "1   0375404120         1.5"
      ]
     },
     "execution_count": 21,
     "metadata": {},
     "output_type": "execute_result"
    }
   ],
   "source": [
    "#Calcolo nella tabella books_ratings i valori medi del rating per ogni ISBN\n",
    "books_avg_ratings = books_ratings.groupby('ISBN').mean('Book-Rating')[['Book-Rating']]\n",
    "#Cambio nome colonna\n",
    "books_avg_ratings.rename(columns = {'Book-Rating' : 'Avg-Rating'}, inplace = True)\n",
    "#Resetto l'indice\n",
    "books_avg_ratings.reset_index(inplace = True)\n",
    "books_avg_ratings.head(2)"
   ]
  },
  {
   "cell_type": "code",
   "execution_count": 22,
   "metadata": {
    "scrolled": true
   },
   "outputs": [
    {
     "data": {
      "text/html": [
       "<div>\n",
       "<style scoped>\n",
       "    .dataframe tbody tr th:only-of-type {\n",
       "        vertical-align: middle;\n",
       "    }\n",
       "\n",
       "    .dataframe tbody tr th {\n",
       "        vertical-align: top;\n",
       "    }\n",
       "\n",
       "    .dataframe thead th {\n",
       "        text-align: right;\n",
       "    }\n",
       "</style>\n",
       "<table border=\"1\" class=\"dataframe\">\n",
       "  <thead>\n",
       "    <tr style=\"text-align: right;\">\n",
       "      <th></th>\n",
       "      <th>ISBN</th>\n",
       "      <th>Book-Title</th>\n",
       "      <th>Book-Author</th>\n",
       "      <th>Year-Of-Publication</th>\n",
       "      <th>Publisher</th>\n",
       "      <th>Image-URL-S</th>\n",
       "      <th>Image-URL-M</th>\n",
       "      <th>Image-URL-L</th>\n",
       "      <th>Avg-Rating</th>\n",
       "    </tr>\n",
       "  </thead>\n",
       "  <tbody>\n",
       "    <tr>\n",
       "      <th>0</th>\n",
       "      <td>0195153448</td>\n",
       "      <td>Classical Mythology</td>\n",
       "      <td>Mark P. O. Morford</td>\n",
       "      <td>2002</td>\n",
       "      <td>Oxford University Press</td>\n",
       "      <td>http://images.amazon.com/images/P/0195153448.0...</td>\n",
       "      <td>http://images.amazon.com/images/P/0195153448.0...</td>\n",
       "      <td>http://images.amazon.com/images/P/0195153448.0...</td>\n",
       "      <td>0.000000</td>\n",
       "    </tr>\n",
       "    <tr>\n",
       "      <th>1</th>\n",
       "      <td>0002005018</td>\n",
       "      <td>Clara Callan</td>\n",
       "      <td>Richard Bruce Wright</td>\n",
       "      <td>2001</td>\n",
       "      <td>HarperFlamingo Canada</td>\n",
       "      <td>http://images.amazon.com/images/P/0002005018.0...</td>\n",
       "      <td>http://images.amazon.com/images/P/0002005018.0...</td>\n",
       "      <td>http://images.amazon.com/images/P/0002005018.0...</td>\n",
       "      <td>4.928571</td>\n",
       "    </tr>\n",
       "  </tbody>\n",
       "</table>\n",
       "</div>"
      ],
      "text/plain": [
       "         ISBN           Book-Title           Book-Author Year-Of-Publication  \\\n",
       "0  0195153448  Classical Mythology    Mark P. O. Morford                2002   \n",
       "1  0002005018         Clara Callan  Richard Bruce Wright                2001   \n",
       "\n",
       "                 Publisher                                        Image-URL-S  \\\n",
       "0  Oxford University Press  http://images.amazon.com/images/P/0195153448.0...   \n",
       "1    HarperFlamingo Canada  http://images.amazon.com/images/P/0002005018.0...   \n",
       "\n",
       "                                         Image-URL-M  \\\n",
       "0  http://images.amazon.com/images/P/0195153448.0...   \n",
       "1  http://images.amazon.com/images/P/0002005018.0...   \n",
       "\n",
       "                                         Image-URL-L  Avg-Rating  \n",
       "0  http://images.amazon.com/images/P/0195153448.0...    0.000000  \n",
       "1  http://images.amazon.com/images/P/0002005018.0...    4.928571  "
      ]
     },
     "execution_count": 22,
     "metadata": {},
     "output_type": "execute_result"
    }
   ],
   "source": [
    "#Faccio il merge tra il dataset books e quello nuovo, che contiene la media dei voti perché non hanno \n",
    "#gli stessi valori per ISBN.\n",
    "merge_books_avg_ratings = books.merge(books_avg_ratings, on = 'ISBN', how = 'left')\n",
    "merge_books_avg_ratings.head(2)\n",
    "#Ho usato left perché dice per ogni"
   ]
  },
  {
   "cell_type": "code",
   "execution_count": 23,
   "metadata": {},
   "outputs": [
    {
     "data": {
      "text/html": [
       "<div>\n",
       "<style scoped>\n",
       "    .dataframe tbody tr th:only-of-type {\n",
       "        vertical-align: middle;\n",
       "    }\n",
       "\n",
       "    .dataframe tbody tr th {\n",
       "        vertical-align: top;\n",
       "    }\n",
       "\n",
       "    .dataframe thead th {\n",
       "        text-align: right;\n",
       "    }\n",
       "</style>\n",
       "<table border=\"1\" class=\"dataframe\">\n",
       "  <thead>\n",
       "    <tr style=\"text-align: right;\">\n",
       "      <th></th>\n",
       "      <th>ISBN</th>\n",
       "      <th>Book-Title</th>\n",
       "      <th>Book-Author</th>\n",
       "      <th>Year-Of-Publication</th>\n",
       "      <th>Publisher</th>\n",
       "      <th>Image-URL-S</th>\n",
       "      <th>Image-URL-M</th>\n",
       "      <th>Image-URL-L</th>\n",
       "      <th>Avg-Rating</th>\n",
       "    </tr>\n",
       "  </thead>\n",
       "  <tbody>\n",
       "    <tr>\n",
       "      <th>0</th>\n",
       "      <td>0195153448</td>\n",
       "      <td>Classical Mythology</td>\n",
       "      <td>Mark P. O. Morford</td>\n",
       "      <td>2002</td>\n",
       "      <td>Oxford University Press</td>\n",
       "      <td>http://images.amazon.com/images/P/0195153448.0...</td>\n",
       "      <td>http://images.amazon.com/images/P/0195153448.0...</td>\n",
       "      <td>http://images.amazon.com/images/P/0195153448.0...</td>\n",
       "      <td>0.000000</td>\n",
       "    </tr>\n",
       "    <tr>\n",
       "      <th>1</th>\n",
       "      <td>0002005018</td>\n",
       "      <td>Clara Callan</td>\n",
       "      <td>Richard Bruce Wright</td>\n",
       "      <td>2001</td>\n",
       "      <td>HarperFlamingo Canada</td>\n",
       "      <td>http://images.amazon.com/images/P/0002005018.0...</td>\n",
       "      <td>http://images.amazon.com/images/P/0002005018.0...</td>\n",
       "      <td>http://images.amazon.com/images/P/0002005018.0...</td>\n",
       "      <td>4.928571</td>\n",
       "    </tr>\n",
       "  </tbody>\n",
       "</table>\n",
       "</div>"
      ],
      "text/plain": [
       "         ISBN           Book-Title           Book-Author Year-Of-Publication  \\\n",
       "0  0195153448  Classical Mythology    Mark P. O. Morford                2002   \n",
       "1  0002005018         Clara Callan  Richard Bruce Wright                2001   \n",
       "\n",
       "                 Publisher                                        Image-URL-S  \\\n",
       "0  Oxford University Press  http://images.amazon.com/images/P/0195153448.0...   \n",
       "1    HarperFlamingo Canada  http://images.amazon.com/images/P/0002005018.0...   \n",
       "\n",
       "                                         Image-URL-M  \\\n",
       "0  http://images.amazon.com/images/P/0195153448.0...   \n",
       "1  http://images.amazon.com/images/P/0002005018.0...   \n",
       "\n",
       "                                         Image-URL-L  Avg-Rating  \n",
       "0  http://images.amazon.com/images/P/0195153448.0...    0.000000  \n",
       "1  http://images.amazon.com/images/P/0002005018.0...    4.928571  "
      ]
     },
     "execution_count": 23,
     "metadata": {},
     "output_type": "execute_result"
    }
   ],
   "source": [
    "#In questo caso non avrò valori nulli per quanto riguarda il punteggio medio\n",
    "merge_books_avg_noleft = books.merge(books_avg_ratings, on = 'ISBN')\n",
    "merge_books_avg_noleft.head(2)"
   ]
  },
  {
   "cell_type": "markdown",
   "metadata": {},
   "source": [
    "### 3. For each book in the *GoodBooks* dataset, compute its average rating."
   ]
  },
  {
   "cell_type": "code",
   "execution_count": 24,
   "metadata": {
    "scrolled": true
   },
   "outputs": [
    {
     "name": "stdout",
     "output_type": "stream",
     "text": [
      "Dimensione tabella goodbooks: 99\n",
      "Totale valori unici book_id tabella goodbooks: 99\n",
      "Dimensione tabella goodbooks_ratings: 99\n",
      "Totale valori unici book_id tabella goodbooks_ratings: 96\n"
     ]
    }
   ],
   "source": [
    "#Controllo se le due tabelle goodbooks e goodbooks_ratings hanno valori unici per quanto riguarda \n",
    "#book_id rispetto alla dimensione totale dei dataset\n",
    "print(f\"Dimensione tabella goodbooks: {len(goodbooks)}\")\n",
    "print(f\"Totale valori unici book_id tabella goodbooks: {len(goodbooks['book_id'].unique())}\")\n",
    "print(f\"Dimensione tabella goodbooks_ratings: {len(goodbooks_ratings)}\")\n",
    "print(f\"Totale valori unici book_id tabella goodbooks_ratings: {len(goodbooks_ratings['book_id'].unique())}\")"
   ]
  },
  {
   "cell_type": "code",
   "execution_count": 25,
   "metadata": {},
   "outputs": [
    {
     "name": "stdout",
     "output_type": "stream",
     "text": [
      "Differenza numero valori book_id di goodbooks e goodbooks_ratings: 72\n",
      "Differenza numero valori book_id di goodbooks_ratings e goodbooks: 69\n"
     ]
    }
   ],
   "source": [
    "#Controllo se i valori di book_id sono gli stessi per le due tabelle\n",
    "#Uso unique() solo per una tabella, perché l'altra ha tutti valori unici per book_id\n",
    "print(f\"Differenza numero valori book_id di goodbooks e goodbooks_ratings: {len(set(goodbooks['book_id'].unique()) - set(goodbooks_ratings['book_id']))}\")\n",
    "print(f\"Differenza numero valori book_id di goodbooks_ratings e goodbooks: {len(set(goodbooks_ratings['book_id'].unique()) - set(goodbooks['book_id']))}\")"
   ]
  },
  {
   "cell_type": "markdown",
   "metadata": {},
   "source": [
    "Perciò i due dataset hanno valori praticamente diversi, se non per circa 20, di book_id."
   ]
  },
  {
   "cell_type": "code",
   "execution_count": 26,
   "metadata": {},
   "outputs": [
    {
     "data": {
      "text/html": [
       "<div>\n",
       "<style scoped>\n",
       "    .dataframe tbody tr th:only-of-type {\n",
       "        vertical-align: middle;\n",
       "    }\n",
       "\n",
       "    .dataframe tbody tr th {\n",
       "        vertical-align: top;\n",
       "    }\n",
       "\n",
       "    .dataframe thead th {\n",
       "        text-align: right;\n",
       "    }\n",
       "</style>\n",
       "<table border=\"1\" class=\"dataframe\">\n",
       "  <thead>\n",
       "    <tr style=\"text-align: right;\">\n",
       "      <th></th>\n",
       "      <th>book_id</th>\n",
       "      <th>avg_rating</th>\n",
       "    </tr>\n",
       "  </thead>\n",
       "  <tbody>\n",
       "    <tr>\n",
       "      <th>0</th>\n",
       "      <td>2</td>\n",
       "      <td>5.0</td>\n",
       "    </tr>\n",
       "    <tr>\n",
       "      <th>1</th>\n",
       "      <td>5</td>\n",
       "      <td>4.0</td>\n",
       "    </tr>\n",
       "  </tbody>\n",
       "</table>\n",
       "</div>"
      ],
      "text/plain": [
       "   book_id  avg_rating\n",
       "0        2         5.0\n",
       "1        5         4.0"
      ]
     },
     "execution_count": 26,
     "metadata": {},
     "output_type": "execute_result"
    }
   ],
   "source": [
    "#Calcolo nella tabella goodbooks_ratings il valore medio di rating per ogni book_id\n",
    "avg_goodbooks = goodbooks_ratings.groupby('book_id')[['rating']].mean()\n",
    "#Cambio il nome di una colonna\n",
    "avg_goodbooks.rename(columns = {'rating' : 'avg_rating'}, inplace = True)\n",
    "#Resetto l'indice\n",
    "avg_goodbooks.reset_index(inplace = True)\n",
    "avg_goodbooks.head(2)"
   ]
  },
  {
   "cell_type": "code",
   "execution_count": 27,
   "metadata": {
    "scrolled": true
   },
   "outputs": [
    {
     "data": {
      "text/html": [
       "<div>\n",
       "<style scoped>\n",
       "    .dataframe tbody tr th:only-of-type {\n",
       "        vertical-align: middle;\n",
       "    }\n",
       "\n",
       "    .dataframe tbody tr th {\n",
       "        vertical-align: top;\n",
       "    }\n",
       "\n",
       "    .dataframe thead th {\n",
       "        text-align: right;\n",
       "    }\n",
       "</style>\n",
       "<table border=\"1\" class=\"dataframe\">\n",
       "  <thead>\n",
       "    <tr style=\"text-align: right;\">\n",
       "      <th></th>\n",
       "      <th>book_id</th>\n",
       "      <th>goodreads_book_id</th>\n",
       "      <th>best_book_id</th>\n",
       "      <th>work_id</th>\n",
       "      <th>books_count</th>\n",
       "      <th>isbn</th>\n",
       "      <th>isbn13</th>\n",
       "      <th>authors</th>\n",
       "      <th>original_publication_year</th>\n",
       "      <th>original_title</th>\n",
       "      <th>...</th>\n",
       "      <th>work_ratings_count</th>\n",
       "      <th>work_text_reviews_count</th>\n",
       "      <th>ratings_1</th>\n",
       "      <th>ratings_2</th>\n",
       "      <th>ratings_3</th>\n",
       "      <th>ratings_4</th>\n",
       "      <th>ratings_5</th>\n",
       "      <th>image_url</th>\n",
       "      <th>small_image_url</th>\n",
       "      <th>avg_rating</th>\n",
       "    </tr>\n",
       "  </thead>\n",
       "  <tbody>\n",
       "    <tr>\n",
       "      <th>0</th>\n",
       "      <td>1</td>\n",
       "      <td>2767052</td>\n",
       "      <td>2767052</td>\n",
       "      <td>2792775</td>\n",
       "      <td>272</td>\n",
       "      <td>439023483</td>\n",
       "      <td>9.780439e+12</td>\n",
       "      <td>Suzanne Collins</td>\n",
       "      <td>2008.0</td>\n",
       "      <td>The Hunger Games</td>\n",
       "      <td>...</td>\n",
       "      <td>4942365</td>\n",
       "      <td>155254</td>\n",
       "      <td>66715</td>\n",
       "      <td>127936</td>\n",
       "      <td>560092</td>\n",
       "      <td>1481305</td>\n",
       "      <td>2706317</td>\n",
       "      <td>https://images.gr-assets.com/books/1447303603m...</td>\n",
       "      <td>https://images.gr-assets.com/books/1447303603s...</td>\n",
       "      <td>NaN</td>\n",
       "    </tr>\n",
       "    <tr>\n",
       "      <th>1</th>\n",
       "      <td>2</td>\n",
       "      <td>3</td>\n",
       "      <td>3</td>\n",
       "      <td>4640799</td>\n",
       "      <td>491</td>\n",
       "      <td>439554934</td>\n",
       "      <td>9.780440e+12</td>\n",
       "      <td>J.K. Rowling, Mary GrandPrÃ©</td>\n",
       "      <td>1997.0</td>\n",
       "      <td>Harry Potter and the Philosopher's Stone</td>\n",
       "      <td>...</td>\n",
       "      <td>4800065</td>\n",
       "      <td>75867</td>\n",
       "      <td>75504</td>\n",
       "      <td>101676</td>\n",
       "      <td>455024</td>\n",
       "      <td>1156318</td>\n",
       "      <td>3011543</td>\n",
       "      <td>https://images.gr-assets.com/books/1474154022m...</td>\n",
       "      <td>https://images.gr-assets.com/books/1474154022s...</td>\n",
       "      <td>5.0</td>\n",
       "    </tr>\n",
       "  </tbody>\n",
       "</table>\n",
       "<p>2 rows × 24 columns</p>\n",
       "</div>"
      ],
      "text/plain": [
       "   book_id  goodreads_book_id  best_book_id  work_id  books_count       isbn  \\\n",
       "0        1            2767052       2767052  2792775          272  439023483   \n",
       "1        2                  3             3  4640799          491  439554934   \n",
       "\n",
       "         isbn13                       authors  original_publication_year  \\\n",
       "0  9.780439e+12               Suzanne Collins                     2008.0   \n",
       "1  9.780440e+12  J.K. Rowling, Mary GrandPrÃ©                     1997.0   \n",
       "\n",
       "                             original_title  ... work_ratings_count  \\\n",
       "0                          The Hunger Games  ...            4942365   \n",
       "1  Harry Potter and the Philosopher's Stone  ...            4800065   \n",
       "\n",
       "  work_text_reviews_count  ratings_1  ratings_2  ratings_3  ratings_4  \\\n",
       "0                  155254      66715     127936     560092    1481305   \n",
       "1                   75867      75504     101676     455024    1156318   \n",
       "\n",
       "   ratings_5                                          image_url  \\\n",
       "0    2706317  https://images.gr-assets.com/books/1447303603m...   \n",
       "1    3011543  https://images.gr-assets.com/books/1474154022m...   \n",
       "\n",
       "                                     small_image_url  avg_rating  \n",
       "0  https://images.gr-assets.com/books/1447303603s...         NaN  \n",
       "1  https://images.gr-assets.com/books/1474154022s...         5.0  \n",
       "\n",
       "[2 rows x 24 columns]"
      ]
     },
     "execution_count": 27,
     "metadata": {},
     "output_type": "execute_result"
    }
   ],
   "source": [
    "#Faccio il merge tra il dataset goodbooks e quello nuovo, che contiene la media dei voti perché \n",
    "#non hanno gli stessi valori per book_id\n",
    "merge_goodbooks_avg_ratings = goodbooks.merge(avg_goodbooks, on = 'book_id', how = 'left')\n",
    "merge_goodbooks_avg_ratings.head(2)\n",
    "#Uso left per tenere i valori della tabella goodbooks, ovviamente avrò valori nulli per molti rating"
   ]
  },
  {
   "cell_type": "code",
   "execution_count": 28,
   "metadata": {},
   "outputs": [
    {
     "data": {
      "text/html": [
       "<div>\n",
       "<style scoped>\n",
       "    .dataframe tbody tr th:only-of-type {\n",
       "        vertical-align: middle;\n",
       "    }\n",
       "\n",
       "    .dataframe tbody tr th {\n",
       "        vertical-align: top;\n",
       "    }\n",
       "\n",
       "    .dataframe thead th {\n",
       "        text-align: right;\n",
       "    }\n",
       "</style>\n",
       "<table border=\"1\" class=\"dataframe\">\n",
       "  <thead>\n",
       "    <tr style=\"text-align: right;\">\n",
       "      <th></th>\n",
       "      <th>book_id</th>\n",
       "      <th>goodreads_book_id</th>\n",
       "      <th>best_book_id</th>\n",
       "      <th>work_id</th>\n",
       "      <th>books_count</th>\n",
       "      <th>isbn</th>\n",
       "      <th>isbn13</th>\n",
       "      <th>authors</th>\n",
       "      <th>original_publication_year</th>\n",
       "      <th>original_title</th>\n",
       "      <th>...</th>\n",
       "      <th>work_ratings_count</th>\n",
       "      <th>work_text_reviews_count</th>\n",
       "      <th>ratings_1</th>\n",
       "      <th>ratings_2</th>\n",
       "      <th>ratings_3</th>\n",
       "      <th>ratings_4</th>\n",
       "      <th>ratings_5</th>\n",
       "      <th>image_url</th>\n",
       "      <th>small_image_url</th>\n",
       "      <th>avg_rating</th>\n",
       "    </tr>\n",
       "  </thead>\n",
       "  <tbody>\n",
       "    <tr>\n",
       "      <th>0</th>\n",
       "      <td>2</td>\n",
       "      <td>3</td>\n",
       "      <td>3</td>\n",
       "      <td>4640799</td>\n",
       "      <td>491</td>\n",
       "      <td>439554934</td>\n",
       "      <td>9.780440e+12</td>\n",
       "      <td>J.K. Rowling, Mary GrandPrÃ©</td>\n",
       "      <td>1997.0</td>\n",
       "      <td>Harry Potter and the Philosopher's Stone</td>\n",
       "      <td>...</td>\n",
       "      <td>4800065</td>\n",
       "      <td>75867</td>\n",
       "      <td>75504</td>\n",
       "      <td>101676</td>\n",
       "      <td>455024</td>\n",
       "      <td>1156318</td>\n",
       "      <td>3011543</td>\n",
       "      <td>https://images.gr-assets.com/books/1474154022m...</td>\n",
       "      <td>https://images.gr-assets.com/books/1474154022s...</td>\n",
       "      <td>5.0</td>\n",
       "    </tr>\n",
       "    <tr>\n",
       "      <th>1</th>\n",
       "      <td>5</td>\n",
       "      <td>4671</td>\n",
       "      <td>4671</td>\n",
       "      <td>245494</td>\n",
       "      <td>1356</td>\n",
       "      <td>743273567</td>\n",
       "      <td>9.780743e+12</td>\n",
       "      <td>F. Scott Fitzgerald</td>\n",
       "      <td>1925.0</td>\n",
       "      <td>The Great Gatsby</td>\n",
       "      <td>...</td>\n",
       "      <td>2773745</td>\n",
       "      <td>51992</td>\n",
       "      <td>86236</td>\n",
       "      <td>197621</td>\n",
       "      <td>606158</td>\n",
       "      <td>936012</td>\n",
       "      <td>947718</td>\n",
       "      <td>https://images.gr-assets.com/books/1490528560m...</td>\n",
       "      <td>https://images.gr-assets.com/books/1490528560s...</td>\n",
       "      <td>4.0</td>\n",
       "    </tr>\n",
       "  </tbody>\n",
       "</table>\n",
       "<p>2 rows × 24 columns</p>\n",
       "</div>"
      ],
      "text/plain": [
       "   book_id  goodreads_book_id  best_book_id  work_id  books_count       isbn  \\\n",
       "0        2                  3             3  4640799          491  439554934   \n",
       "1        5               4671          4671   245494         1356  743273567   \n",
       "\n",
       "         isbn13                       authors  original_publication_year  \\\n",
       "0  9.780440e+12  J.K. Rowling, Mary GrandPrÃ©                     1997.0   \n",
       "1  9.780743e+12           F. Scott Fitzgerald                     1925.0   \n",
       "\n",
       "                             original_title  ... work_ratings_count  \\\n",
       "0  Harry Potter and the Philosopher's Stone  ...            4800065   \n",
       "1                          The Great Gatsby  ...            2773745   \n",
       "\n",
       "  work_text_reviews_count  ratings_1  ratings_2  ratings_3  ratings_4  \\\n",
       "0                   75867      75504     101676     455024    1156318   \n",
       "1                   51992      86236     197621     606158     936012   \n",
       "\n",
       "   ratings_5                                          image_url  \\\n",
       "0    3011543  https://images.gr-assets.com/books/1474154022m...   \n",
       "1     947718  https://images.gr-assets.com/books/1490528560m...   \n",
       "\n",
       "                                     small_image_url  avg_rating  \n",
       "0  https://images.gr-assets.com/books/1474154022s...         5.0  \n",
       "1  https://images.gr-assets.com/books/1490528560s...         4.0  \n",
       "\n",
       "[2 rows x 24 columns]"
      ]
     },
     "execution_count": 28,
     "metadata": {},
     "output_type": "execute_result"
    }
   ],
   "source": [
    "#Se non voglio avere valori nulli per il rating\n",
    "merge_goodbooks_avg_noleft = goodbooks.merge(avg_goodbooks, on = 'book_id')\n",
    "merge_goodbooks_avg_noleft.head(2)"
   ]
  },
  {
   "cell_type": "code",
   "execution_count": 29,
   "metadata": {},
   "outputs": [
    {
     "data": {
      "text/html": [
       "<div>\n",
       "<style scoped>\n",
       "    .dataframe tbody tr th:only-of-type {\n",
       "        vertical-align: middle;\n",
       "    }\n",
       "\n",
       "    .dataframe tbody tr th {\n",
       "        vertical-align: top;\n",
       "    }\n",
       "\n",
       "    .dataframe thead th {\n",
       "        text-align: right;\n",
       "    }\n",
       "</style>\n",
       "<table border=\"1\" class=\"dataframe\">\n",
       "  <thead>\n",
       "    <tr style=\"text-align: right;\">\n",
       "      <th></th>\n",
       "      <th>book_id</th>\n",
       "      <th>isbn</th>\n",
       "      <th>authors</th>\n",
       "      <th>original_publication_year</th>\n",
       "      <th>original_title</th>\n",
       "      <th>average_rating</th>\n",
       "    </tr>\n",
       "  </thead>\n",
       "  <tbody>\n",
       "    <tr>\n",
       "      <th>0</th>\n",
       "      <td>1</td>\n",
       "      <td>439023483</td>\n",
       "      <td>Suzanne Collins</td>\n",
       "      <td>2008.0</td>\n",
       "      <td>The Hunger Games</td>\n",
       "      <td>4.34</td>\n",
       "    </tr>\n",
       "    <tr>\n",
       "      <th>1</th>\n",
       "      <td>2</td>\n",
       "      <td>439554934</td>\n",
       "      <td>J.K. Rowling, Mary GrandPrÃ©</td>\n",
       "      <td>1997.0</td>\n",
       "      <td>Harry Potter and the Philosopher's Stone</td>\n",
       "      <td>4.44</td>\n",
       "    </tr>\n",
       "  </tbody>\n",
       "</table>\n",
       "</div>"
      ],
      "text/plain": [
       "   book_id       isbn                       authors  \\\n",
       "0        1  439023483               Suzanne Collins   \n",
       "1        2  439554934  J.K. Rowling, Mary GrandPrÃ©   \n",
       "\n",
       "   original_publication_year                            original_title  \\\n",
       "0                     2008.0                          The Hunger Games   \n",
       "1                     1997.0  Harry Potter and the Philosopher's Stone   \n",
       "\n",
       "   average_rating  \n",
       "0            4.34  \n",
       "1            4.44  "
      ]
     },
     "execution_count": 29,
     "metadata": {},
     "output_type": "execute_result"
    }
   ],
   "source": [
    "#Poiché i valori di book_id sono diversi per le due tabella goodbooks e goodbooks_ratings, mostro \n",
    "#anche i valori di average_rating presenti di default nella tabella goodbooks\n",
    "goodbooks[['book_id', 'isbn', 'authors', 'original_publication_year', 'original_title', 'average_rating']].head(2)"
   ]
  },
  {
   "cell_type": "markdown",
   "metadata": {},
   "source": [
    "### 4. Merge together all rows sharing the same book title, author and publisher. We will call the resulting datset `merged books`. The books that have not been merged together will not appear in `merged books`."
   ]
  },
  {
   "cell_type": "code",
   "execution_count": 30,
   "metadata": {
    "scrolled": true
   },
   "outputs": [
    {
     "data": {
      "text/html": [
       "<div>\n",
       "<style scoped>\n",
       "    .dataframe tbody tr th:only-of-type {\n",
       "        vertical-align: middle;\n",
       "    }\n",
       "\n",
       "    .dataframe tbody tr th {\n",
       "        vertical-align: top;\n",
       "    }\n",
       "\n",
       "    .dataframe thead th {\n",
       "        text-align: right;\n",
       "    }\n",
       "</style>\n",
       "<table border=\"1\" class=\"dataframe\">\n",
       "  <thead>\n",
       "    <tr style=\"text-align: right;\">\n",
       "      <th></th>\n",
       "      <th>Book-Title</th>\n",
       "      <th>Book-Author</th>\n",
       "      <th>Publisher</th>\n",
       "      <th>ISBN</th>\n",
       "    </tr>\n",
       "  </thead>\n",
       "  <tbody>\n",
       "    <tr>\n",
       "      <th>0</th>\n",
       "      <td>A Light in the Storm: The Civil War Diary of ...</td>\n",
       "      <td>Karen Hesse</td>\n",
       "      <td>Hyperion Books for Children</td>\n",
       "      <td>1</td>\n",
       "    </tr>\n",
       "    <tr>\n",
       "      <th>1</th>\n",
       "      <td>Always Have Popsicles</td>\n",
       "      <td>Rebecca Harvin</td>\n",
       "      <td>Rebecca L. Harvin</td>\n",
       "      <td>1</td>\n",
       "    </tr>\n",
       "  </tbody>\n",
       "</table>\n",
       "</div>"
      ],
      "text/plain": [
       "                                          Book-Title     Book-Author  \\\n",
       "0   A Light in the Storm: The Civil War Diary of ...     Karen Hesse   \n",
       "1                              Always Have Popsicles  Rebecca Harvin   \n",
       "\n",
       "                     Publisher  ISBN  \n",
       "0  Hyperion Books for Children     1  \n",
       "1            Rebecca L. Harvin     1  "
      ]
     },
     "execution_count": 30,
     "metadata": {},
     "output_type": "execute_result"
    }
   ],
   "source": [
    "#Raggruppo i libri per Book-Title, Book-Author e Publisher e conteggio quanti ISBN hanno per ognuno \n",
    "#(un libro che viene ripubblicato cambia ISBN)\n",
    "merged_books = books.groupby(['Book-Title', 'Book-Author', 'Publisher']).count()[['ISBN']]\n",
    "#Sistemo l'indice, poiché è più comodo non lavorare con i multi-indici\n",
    "merged_books.reset_index(inplace = True)\n",
    "merged_books.head(2)"
   ]
  },
  {
   "cell_type": "code",
   "execution_count": 31,
   "metadata": {},
   "outputs": [
    {
     "data": {
      "text/html": [
       "<div>\n",
       "<style scoped>\n",
       "    .dataframe tbody tr th:only-of-type {\n",
       "        vertical-align: middle;\n",
       "    }\n",
       "\n",
       "    .dataframe tbody tr th {\n",
       "        vertical-align: top;\n",
       "    }\n",
       "\n",
       "    .dataframe thead th {\n",
       "        text-align: right;\n",
       "    }\n",
       "</style>\n",
       "<table border=\"1\" class=\"dataframe\">\n",
       "  <thead>\n",
       "    <tr style=\"text-align: right;\">\n",
       "      <th></th>\n",
       "      <th>Book-Title</th>\n",
       "      <th>Book-Author</th>\n",
       "      <th>Publisher</th>\n",
       "    </tr>\n",
       "  </thead>\n",
       "  <tbody>\n",
       "    <tr>\n",
       "      <th>0</th>\n",
       "      <td>!%@ (A Nutshell handbook)</td>\n",
       "      <td>Donnalyn Frey</td>\n",
       "      <td>O'Reilly</td>\n",
       "    </tr>\n",
       "    <tr>\n",
       "      <th>1</th>\n",
       "      <td>'A Hell of a Place to Lose a Cow': An American...</td>\n",
       "      <td>Tim Brookes</td>\n",
       "      <td>National Geographic</td>\n",
       "    </tr>\n",
       "  </tbody>\n",
       "</table>\n",
       "</div>"
      ],
      "text/plain": [
       "                                          Book-Title    Book-Author  \\\n",
       "0                          !%@ (A Nutshell handbook)  Donnalyn Frey   \n",
       "1  'A Hell of a Place to Lose a Cow': An American...    Tim Brookes   \n",
       "\n",
       "             Publisher  \n",
       "0             O'Reilly  \n",
       "1  National Geographic  "
      ]
     },
     "execution_count": 31,
     "metadata": {},
     "output_type": "execute_result"
    }
   ],
   "source": [
    "#Elimino i libri che non sono stati ripubblicati (quindi ISBN <= 1)\n",
    "merged_books.drop(merged_books.index[merged_books['ISBN'] <= 1], inplace = True)\n",
    "#Elimino colonna ISBN perché non mi serve\n",
    "merged_books.drop(columns = ['ISBN'], inplace = True)\n",
    "#Sistemo l'indice avendo eliminato delle righe\n",
    "merged_books.reset_index(drop = True, inplace = True)\n",
    "merged_books.head(2)"
   ]
  },
  {
   "cell_type": "markdown",
   "metadata": {},
   "source": [
    "### 5. For each book in `merged books` compute its average rating.\n",
    "\n",
    "The average is computed considering all books in `books` that have been merged."
   ]
  },
  {
   "cell_type": "code",
   "execution_count": 32,
   "metadata": {
    "scrolled": true
   },
   "outputs": [
    {
     "data": {
      "text/html": [
       "<div>\n",
       "<style scoped>\n",
       "    .dataframe tbody tr th:only-of-type {\n",
       "        vertical-align: middle;\n",
       "    }\n",
       "\n",
       "    .dataframe tbody tr th {\n",
       "        vertical-align: top;\n",
       "    }\n",
       "\n",
       "    .dataframe thead th {\n",
       "        text-align: right;\n",
       "    }\n",
       "</style>\n",
       "<table border=\"1\" class=\"dataframe\">\n",
       "  <thead>\n",
       "    <tr style=\"text-align: right;\">\n",
       "      <th></th>\n",
       "      <th>ISBN</th>\n",
       "      <th>Book-Title</th>\n",
       "      <th>Book-Author</th>\n",
       "      <th>Publisher</th>\n",
       "      <th>Avg-Rating</th>\n",
       "    </tr>\n",
       "  </thead>\n",
       "  <tbody>\n",
       "    <tr>\n",
       "      <th>0</th>\n",
       "      <td>1565920465</td>\n",
       "      <td>!%@ (A Nutshell handbook)</td>\n",
       "      <td>Donnalyn Frey</td>\n",
       "      <td>O'Reilly</td>\n",
       "      <td>0.0</td>\n",
       "    </tr>\n",
       "    <tr>\n",
       "      <th>1</th>\n",
       "      <td>1565920317</td>\n",
       "      <td>!%@ (A Nutshell handbook)</td>\n",
       "      <td>Donnalyn Frey</td>\n",
       "      <td>O'Reilly</td>\n",
       "      <td>6.0</td>\n",
       "    </tr>\n",
       "  </tbody>\n",
       "</table>\n",
       "</div>"
      ],
      "text/plain": [
       "         ISBN                 Book-Title    Book-Author Publisher  Avg-Rating\n",
       "0  1565920465  !%@ (A Nutshell handbook)  Donnalyn Frey  O'Reilly         0.0\n",
       "1  1565920317  !%@ (A Nutshell handbook)  Donnalyn Frey  O'Reilly         6.0"
      ]
     },
     "execution_count": 32,
     "metadata": {},
     "output_type": "execute_result"
    }
   ],
   "source": [
    "#Considero la tabella merge_books_avg_ratings che contiene i libri della tabella books e per quasi \n",
    "#tutti il valore di avg_ratings\n",
    "#Faccio un merge tra la tabella considerata e merged_books, ottenendo i libri in comune a tutte e due\n",
    "merged_books_avg_ratings = merge_books_avg_ratings.merge(merged_books, on=['Book-Title', 'Book-Author', 'Publisher'])\n",
    "#Ordino i valori del nuovo dataframe in ordine alfabetico rispetto ai tre attributi\n",
    "merged_books_avg_ratings.sort_values(by = ['Book-Title', 'Book-Author', 'Publisher'], inplace = True)\n",
    "#Resetto l'indice\n",
    "merged_books_avg_ratings.reset_index(drop = True, inplace = True)\n",
    "merged_books_avg_ratings[['ISBN', 'Book-Title', 'Book-Author', 'Publisher', 'Avg-Rating']].head(2)"
   ]
  },
  {
   "cell_type": "markdown",
   "metadata": {},
   "source": [
    "Anche qui potevo considerare anche il dataset merge_book_avg_noleft, che non ha valori nulli di Avg-Rating, ma sarebbe la stessa procedura."
   ]
  },
  {
   "cell_type": "markdown",
   "metadata": {},
   "source": [
    "### 6. For each book in `merged books` compute the minimum and maximum of the average ratings over all corresponding books in the `books` dataset.\n",
    "\n",
    "Hence for each book in `merged books` we will have exactly two values (a minimum and a maximum)"
   ]
  },
  {
   "cell_type": "code",
   "execution_count": 33,
   "metadata": {
    "scrolled": true
   },
   "outputs": [
    {
     "data": {
      "text/html": [
       "<div>\n",
       "<style scoped>\n",
       "    .dataframe tbody tr th:only-of-type {\n",
       "        vertical-align: middle;\n",
       "    }\n",
       "\n",
       "    .dataframe tbody tr th {\n",
       "        vertical-align: top;\n",
       "    }\n",
       "\n",
       "    .dataframe thead th {\n",
       "        text-align: right;\n",
       "    }\n",
       "</style>\n",
       "<table border=\"1\" class=\"dataframe\">\n",
       "  <thead>\n",
       "    <tr style=\"text-align: right;\">\n",
       "      <th></th>\n",
       "      <th>Book-Title</th>\n",
       "      <th>Book-Author</th>\n",
       "      <th>Publisher</th>\n",
       "      <th>Max-Rating</th>\n",
       "      <th>Min-Rating</th>\n",
       "    </tr>\n",
       "  </thead>\n",
       "  <tbody>\n",
       "    <tr>\n",
       "      <th>0</th>\n",
       "      <td>!%@ (A Nutshell handbook)</td>\n",
       "      <td>Donnalyn Frey</td>\n",
       "      <td>O'Reilly</td>\n",
       "      <td>6.0</td>\n",
       "      <td>0.0</td>\n",
       "    </tr>\n",
       "    <tr>\n",
       "      <th>1</th>\n",
       "      <td>'A Hell of a Place to Lose a Cow': An American...</td>\n",
       "      <td>Tim Brookes</td>\n",
       "      <td>National Geographic</td>\n",
       "      <td>3.4</td>\n",
       "      <td>0.0</td>\n",
       "    </tr>\n",
       "  </tbody>\n",
       "</table>\n",
       "</div>"
      ],
      "text/plain": [
       "                                          Book-Title    Book-Author  \\\n",
       "0                          !%@ (A Nutshell handbook)  Donnalyn Frey   \n",
       "1  'A Hell of a Place to Lose a Cow': An American...    Tim Brookes   \n",
       "\n",
       "             Publisher  Max-Rating  Min-Rating  \n",
       "0             O'Reilly         6.0         0.0  \n",
       "1  National Geographic         3.4         0.0  "
      ]
     },
     "execution_count": 33,
     "metadata": {},
     "output_type": "execute_result"
    }
   ],
   "source": [
    "#Considero la tabella merge_books_avg_ratings che contiene i libri della tabella books e per quasi \n",
    "#tutti il valore di avg_ratings\n",
    "#Raggruppo e calcolo il massimo del punteggio medio\n",
    "merged_books_splitted_ratings = merge_books_avg_ratings.groupby(['Book-Title', 'Book-Author', 'Publisher']).max('Avg-Rating')\n",
    "#Cambio il nome di una colonna\n",
    "merged_books_splitted_ratings.rename(columns = {'Avg-Rating' : 'Max-Rating'}, inplace = True)\n",
    "#Aggiungo una colonna con il minimo\n",
    "merged_books_splitted_ratings['Min-Rating'] = merge_books_avg_ratings.groupby(['Book-Title', 'Book-Author', 'Publisher']).min('Avg-Rating')\n",
    "#Aggiungo una colonna con il conteggio dei libri\n",
    "merged_books_splitted_ratings['Count'] = merge_books_avg_ratings.groupby(['Book-Title', 'Book-Author', 'Publisher']).count()['ISBN']\n",
    "#Resetto l'indice\n",
    "merged_books_splitted_ratings.reset_index(inplace = True)\n",
    "#Elimino le righe con i libri che erano presenti solo una volta\n",
    "merged_books_splitted_ratings.drop(merged_books_splitted_ratings.index[merged_books_splitted_ratings['Count'] <= 1], inplace = True)\n",
    "#Elimino colonna inutile\n",
    "merged_books_splitted_ratings.drop(columns = ['Count'], inplace = True)\n",
    "#Resetto di nuovo l'indice\n",
    "merged_books_splitted_ratings.reset_index(drop = True, inplace = True)\n",
    "merged_books_splitted_ratings.head(2)"
   ]
  },
  {
   "cell_type": "markdown",
   "metadata": {},
   "source": [
    "### 7. For each book in `goodbooks`, compute the list of its authors. Assuming that the number of reviews with a text (column `work_text_reviews_count`) is split equally among all authors, find for each authors the total number of reviews with a text. We will call this quantity the *shared number of reviews with a text*."
   ]
  },
  {
   "cell_type": "code",
   "execution_count": 34,
   "metadata": {
    "scrolled": true
   },
   "outputs": [
    {
     "data": {
      "text/html": [
       "<div>\n",
       "<style scoped>\n",
       "    .dataframe tbody tr th:only-of-type {\n",
       "        vertical-align: middle;\n",
       "    }\n",
       "\n",
       "    .dataframe tbody tr th {\n",
       "        vertical-align: top;\n",
       "    }\n",
       "\n",
       "    .dataframe thead th {\n",
       "        text-align: right;\n",
       "    }\n",
       "</style>\n",
       "<table border=\"1\" class=\"dataframe\">\n",
       "  <thead>\n",
       "    <tr style=\"text-align: right;\">\n",
       "      <th></th>\n",
       "      <th>book_id</th>\n",
       "      <th>goodreads_book_id</th>\n",
       "      <th>best_book_id</th>\n",
       "      <th>work_id</th>\n",
       "      <th>books_count</th>\n",
       "      <th>isbn</th>\n",
       "      <th>isbn13</th>\n",
       "      <th>authors</th>\n",
       "      <th>original_publication_year</th>\n",
       "      <th>original_title</th>\n",
       "      <th>...</th>\n",
       "      <th>work_text_reviews_count</th>\n",
       "      <th>ratings_1</th>\n",
       "      <th>ratings_2</th>\n",
       "      <th>ratings_3</th>\n",
       "      <th>ratings_4</th>\n",
       "      <th>ratings_5</th>\n",
       "      <th>image_url</th>\n",
       "      <th>small_image_url</th>\n",
       "      <th>num_author</th>\n",
       "      <th>reviews_count_per_author</th>\n",
       "    </tr>\n",
       "  </thead>\n",
       "  <tbody>\n",
       "    <tr>\n",
       "      <th>0</th>\n",
       "      <td>1</td>\n",
       "      <td>2767052</td>\n",
       "      <td>2767052</td>\n",
       "      <td>2792775</td>\n",
       "      <td>272</td>\n",
       "      <td>439023483</td>\n",
       "      <td>9.780439e+12</td>\n",
       "      <td>Suzanne Collins</td>\n",
       "      <td>2008.0</td>\n",
       "      <td>The Hunger Games</td>\n",
       "      <td>...</td>\n",
       "      <td>155254</td>\n",
       "      <td>66715</td>\n",
       "      <td>127936</td>\n",
       "      <td>560092</td>\n",
       "      <td>1481305</td>\n",
       "      <td>2706317</td>\n",
       "      <td>https://images.gr-assets.com/books/1447303603m...</td>\n",
       "      <td>https://images.gr-assets.com/books/1447303603s...</td>\n",
       "      <td>1</td>\n",
       "      <td>155254.0</td>\n",
       "    </tr>\n",
       "    <tr>\n",
       "      <th>1</th>\n",
       "      <td>2</td>\n",
       "      <td>3</td>\n",
       "      <td>3</td>\n",
       "      <td>4640799</td>\n",
       "      <td>491</td>\n",
       "      <td>439554934</td>\n",
       "      <td>9.780440e+12</td>\n",
       "      <td>J.K. Rowling, Mary GrandPrÃ©</td>\n",
       "      <td>1997.0</td>\n",
       "      <td>Harry Potter and the Philosopher's Stone</td>\n",
       "      <td>...</td>\n",
       "      <td>75867</td>\n",
       "      <td>75504</td>\n",
       "      <td>101676</td>\n",
       "      <td>455024</td>\n",
       "      <td>1156318</td>\n",
       "      <td>3011543</td>\n",
       "      <td>https://images.gr-assets.com/books/1474154022m...</td>\n",
       "      <td>https://images.gr-assets.com/books/1474154022s...</td>\n",
       "      <td>2</td>\n",
       "      <td>37933.5</td>\n",
       "    </tr>\n",
       "  </tbody>\n",
       "</table>\n",
       "<p>2 rows × 25 columns</p>\n",
       "</div>"
      ],
      "text/plain": [
       "   book_id  goodreads_book_id  best_book_id  work_id  books_count       isbn  \\\n",
       "0        1            2767052       2767052  2792775          272  439023483   \n",
       "1        2                  3             3  4640799          491  439554934   \n",
       "\n",
       "         isbn13                       authors  original_publication_year  \\\n",
       "0  9.780439e+12               Suzanne Collins                     2008.0   \n",
       "1  9.780440e+12  J.K. Rowling, Mary GrandPrÃ©                     1997.0   \n",
       "\n",
       "                             original_title  ... work_text_reviews_count  \\\n",
       "0                          The Hunger Games  ...                  155254   \n",
       "1  Harry Potter and the Philosopher's Stone  ...                   75867   \n",
       "\n",
       "  ratings_1  ratings_2  ratings_3  ratings_4  ratings_5  \\\n",
       "0     66715     127936     560092    1481305    2706317   \n",
       "1     75504     101676     455024    1156318    3011543   \n",
       "\n",
       "                                           image_url  \\\n",
       "0  https://images.gr-assets.com/books/1447303603m...   \n",
       "1  https://images.gr-assets.com/books/1474154022m...   \n",
       "\n",
       "                                     small_image_url  num_author  \\\n",
       "0  https://images.gr-assets.com/books/1447303603s...           1   \n",
       "1  https://images.gr-assets.com/books/1474154022s...           2   \n",
       "\n",
       "   reviews_count_per_author  \n",
       "0                  155254.0  \n",
       "1                   37933.5  \n",
       "\n",
       "[2 rows x 25 columns]"
      ]
     },
     "execution_count": 34,
     "metadata": {},
     "output_type": "execute_result"
    }
   ],
   "source": [
    "#Poiché la colonna authors contiene più autori\n",
    "#Aggiungo una colonna con il numero di autori \n",
    "goodbooks['num_author'] = goodbooks['authors'].str.count(',') + 1\n",
    "#Divido la colonna reviews_count_per_author per il numero di autori\n",
    "goodbooks['reviews_count_per_author'] = (goodbooks['work_text_reviews_count']) / (goodbooks['num_author'])\n",
    "goodbooks.head(2)"
   ]
  },
  {
   "cell_type": "code",
   "execution_count": 35,
   "metadata": {
    "scrolled": true
   },
   "outputs": [],
   "source": [
    "#Salvo le stringhe dei vari autori in un dataframe nuovo\n",
    "authors_divided = goodbooks.authors.str.split(',', expand = True)\n",
    "#Faccio una copia del dataset goodbooks per non modificarlo direttamente\n",
    "goodbooks_authors_divided = goodbooks.copy()\n",
    "#Inserisco i valori degli autori nella tabella\n",
    "goodbooks_authors_divided['authors'] = authors_divided[0]\n",
    "goodbooks_authors_divided.rename(columns = {'authors': 'authors_1'}, inplace = True)\n",
    "goodbooks_authors_divided['authors_2'] = authors_divided[1]\n",
    "goodbooks_authors_divided['authors_3'] = authors_divided[2]\n",
    "goodbooks_authors_divided['authors_4'] = authors_divided[3]\n",
    "goodbooks_authors_divided['authors_5'] = authors_divided[4]"
   ]
  },
  {
   "cell_type": "code",
   "execution_count": 36,
   "metadata": {},
   "outputs": [],
   "source": [
    "#Salvo in 5 dataframe gli autori con la somma delle reviews_count_per_author\n",
    "author_1 = goodbooks_authors_divided.groupby('authors_1')[['reviews_count_per_author']].sum('reviews_count_per_author')\n",
    "author_2 = goodbooks_authors_divided.groupby('authors_2')[['reviews_count_per_author']].sum('reviews_count_per_author')\n",
    "author_3 = goodbooks_authors_divided.groupby('authors_3')[['reviews_count_per_author']].sum('reviews_count_per_author')\n",
    "author_4 = goodbooks_authors_divided.groupby('authors_4')[['reviews_count_per_author']].sum('reviews_count_per_author')\n",
    "author_5 = goodbooks_authors_divided.groupby('authors_5')[['reviews_count_per_author']].sum('reviews_count_per_author')"
   ]
  },
  {
   "cell_type": "code",
   "execution_count": 37,
   "metadata": {},
   "outputs": [],
   "source": [
    "#Cambio il nome della colonna\n",
    "author_1.rename(columns = {'reviews_count_per_author' : 'Reviews_with_text'}, inplace = True)\n",
    "author_2.rename(columns = {'reviews_count_per_author' : 'Reviews_with_text'}, inplace = True)\n",
    "author_3.rename(columns = {'reviews_count_per_author' : 'Reviews_with_text'}, inplace = True)\n",
    "author_4.rename(columns = {'reviews_count_per_author' : 'Reviews_with_text'}, inplace = True)\n",
    "author_5.rename(columns = {'reviews_count_per_author' : 'Reviews_with_text'}, inplace = True)"
   ]
  },
  {
   "cell_type": "code",
   "execution_count": 38,
   "metadata": {},
   "outputs": [],
   "source": [
    "#Resetto l'indice\n",
    "author_1.reset_index(inplace = True)\n",
    "author_2.reset_index(inplace = True)\n",
    "author_3.reset_index(inplace = True)\n",
    "author_4.reset_index(inplace = True)\n",
    "author_5.reset_index(inplace = True)"
   ]
  },
  {
   "cell_type": "code",
   "execution_count": 39,
   "metadata": {},
   "outputs": [
    {
     "data": {
      "text/html": [
       "<div>\n",
       "<style scoped>\n",
       "    .dataframe tbody tr th:only-of-type {\n",
       "        vertical-align: middle;\n",
       "    }\n",
       "\n",
       "    .dataframe tbody tr th {\n",
       "        vertical-align: top;\n",
       "    }\n",
       "\n",
       "    .dataframe thead th {\n",
       "        text-align: right;\n",
       "    }\n",
       "</style>\n",
       "<table border=\"1\" class=\"dataframe\">\n",
       "  <thead>\n",
       "    <tr style=\"text-align: right;\">\n",
       "      <th></th>\n",
       "      <th>Authors</th>\n",
       "      <th>Reviews_with_text</th>\n",
       "    </tr>\n",
       "  </thead>\n",
       "  <tbody>\n",
       "    <tr>\n",
       "      <th>0</th>\n",
       "      <td>Aldous Huxley</td>\n",
       "      <td>20095.0</td>\n",
       "    </tr>\n",
       "    <tr>\n",
       "      <th>1</th>\n",
       "      <td>Alice Sebold</td>\n",
       "      <td>36642.0</td>\n",
       "    </tr>\n",
       "  </tbody>\n",
       "</table>\n",
       "</div>"
      ],
      "text/plain": [
       "         Authors  Reviews_with_text\n",
       "0  Aldous Huxley            20095.0\n",
       "1   Alice Sebold            36642.0"
      ]
     },
     "execution_count": 39,
     "metadata": {},
     "output_type": "execute_result"
    }
   ],
   "source": [
    "#Cambio il nome della colonna\n",
    "author_1.rename(columns = {'authors_1' : 'Authors'}, inplace = True)\n",
    "author_2.rename(columns = {'authors_2' : 'Authors'}, inplace = True)\n",
    "author_3.rename(columns = {'authors_3' : 'Authors'}, inplace = True)\n",
    "author_4.rename(columns = {'authors_4' : 'Authors'}, inplace = True)\n",
    "author_5.rename(columns = {'authors_5' : 'Authors'}, inplace = True)\n",
    "#Concateno i dataset degli autori\n",
    "authors = pd.concat([author_1, author_2, author_3, author_4, author_5])\n",
    "authors.head(2)"
   ]
  },
  {
   "cell_type": "code",
   "execution_count": 40,
   "metadata": {},
   "outputs": [
    {
     "data": {
      "text/html": [
       "<div>\n",
       "<style scoped>\n",
       "    .dataframe tbody tr th:only-of-type {\n",
       "        vertical-align: middle;\n",
       "    }\n",
       "\n",
       "    .dataframe tbody tr th {\n",
       "        vertical-align: top;\n",
       "    }\n",
       "\n",
       "    .dataframe thead th {\n",
       "        text-align: right;\n",
       "    }\n",
       "</style>\n",
       "<table border=\"1\" class=\"dataframe\">\n",
       "  <thead>\n",
       "    <tr style=\"text-align: right;\">\n",
       "      <th></th>\n",
       "      <th>Reviews_with_text</th>\n",
       "    </tr>\n",
       "    <tr>\n",
       "      <th>Authors</th>\n",
       "      <th></th>\n",
       "    </tr>\n",
       "  </thead>\n",
       "  <tbody>\n",
       "    <tr>\n",
       "      <th>Alan R. Clarke</th>\n",
       "      <td>27890.500000</td>\n",
       "    </tr>\n",
       "    <tr>\n",
       "      <th>B.M. Mooyaart-Doubleday</th>\n",
       "      <td>6941.666667</td>\n",
       "    </tr>\n",
       "  </tbody>\n",
       "</table>\n",
       "</div>"
      ],
      "text/plain": [
       "                          Reviews_with_text\n",
       "Authors                                    \n",
       " Alan R. Clarke                27890.500000\n",
       " B.M. Mooyaart-Doubleday        6941.666667"
      ]
     },
     "execution_count": 40,
     "metadata": {},
     "output_type": "execute_result"
    }
   ],
   "source": [
    "#Dato che i vari dataset degli autori presentavano anche gli stessi valori devo raggruppare di nuovo\n",
    "authors_reviews = authors.groupby('Authors')[['Reviews_with_text']].sum('Reviews_with_text')\n",
    "authors_reviews.head(2)"
   ]
  },
  {
   "cell_type": "markdown",
   "metadata": {},
   "source": [
    "### 8. For each year of publication, determine the author that has the largest value of the shared number of reviews with a text."
   ]
  },
  {
   "cell_type": "code",
   "execution_count": 41,
   "metadata": {},
   "outputs": [
    {
     "data": {
      "text/plain": [
       "[2008.0,\n",
       " 1997.0,\n",
       " 2005.0,\n",
       " 1960.0,\n",
       " 1925.0,\n",
       " 2012.0,\n",
       " 1937.0,\n",
       " 1951.0,\n",
       " 2000.0,\n",
       " 1813.0,\n",
       " 2003.0,\n",
       " 2011.0,\n",
       " 1949.0,\n",
       " 1945.0,\n",
       " 1947.0,\n",
       " 2009.0,\n",
       " 1999.0,\n",
       " 1954.0,\n",
       " 2010.0,\n",
       " 2002.0,\n",
       " 1998.0,\n",
       " 2007.0,\n",
       " 1595.0,\n",
       " 1988.0,\n",
       " 1993.0,\n",
       " 1950.0,\n",
       " 1996.0,\n",
       " 2006.0,\n",
       " 1868.0,\n",
       " 1847.0,\n",
       " 2001.0,\n",
       " 1953.0,\n",
       " 1974.0,\n",
       " 1979.0,\n",
       " 1932.0,\n",
       " 1884.0,\n",
       " 1952.0,\n",
       " 2015.0,\n",
       " 1995.0,\n",
       " 2004.0,\n",
       " 1969.0,\n",
       " 1936.0,\n",
       " 1985.0,\n",
       " 1818.0,\n",
       " 1977.0,\n",
       " 1811.0,\n",
       " -720.0,\n",
       " 1946.0,\n",
       " 1859.0,\n",
       " 1990.0,\n",
       " 1964.0,\n",
       " 1989.0,\n",
       " 1958.0,\n",
       " 1973.0,\n",
       " 1967.0,\n",
       " 1911.0,\n",
       " 1891.0,\n",
       " 1897.0]"
      ]
     },
     "execution_count": 41,
     "metadata": {},
     "output_type": "execute_result"
    }
   ],
   "source": [
    "#Considero il dataset goodbooks_authors_divided\n",
    "#Controllo gli anni di pubblicazione\n",
    "goodbooks_authors_divided['original_publication_year'].unique().tolist()"
   ]
  },
  {
   "cell_type": "code",
   "execution_count": 42,
   "metadata": {
    "scrolled": true
   },
   "outputs": [],
   "source": [
    "#Faccio le stesse operazioni del punto 7 considerando però anche gli anni\n",
    "author1_year = goodbooks_authors_divided.groupby(['original_publication_year', 'authors_1'])[['reviews_count_per_author']].sum()\n",
    "author2_year = goodbooks_authors_divided.groupby(['original_publication_year', 'authors_2'])[['reviews_count_per_author']].sum()\n",
    "author3_year = goodbooks_authors_divided.groupby(['original_publication_year', 'authors_3'])[['reviews_count_per_author']].sum()\n",
    "author4_year = goodbooks_authors_divided.groupby(['original_publication_year', 'authors_4'])[['reviews_count_per_author']].sum()\n",
    "author5_year = goodbooks_authors_divided.groupby(['original_publication_year', 'authors_5'])[['reviews_count_per_author']].sum()"
   ]
  },
  {
   "cell_type": "code",
   "execution_count": 43,
   "metadata": {},
   "outputs": [],
   "source": [
    "#Resetto l'indice\n",
    "author1_year.reset_index(inplace = True)\n",
    "author2_year.reset_index(inplace = True)\n",
    "author3_year.reset_index(inplace = True)\n",
    "author4_year.reset_index(inplace = True)\n",
    "author5_year.reset_index(inplace = True)"
   ]
  },
  {
   "cell_type": "code",
   "execution_count": 44,
   "metadata": {},
   "outputs": [],
   "source": [
    "#Cambio i nomi delle colonne\n",
    "author1_year.rename(columns = {'original_publication_year' : 'Publication_Year', 'authors_1' : 'Authors'}, inplace = True)\n",
    "author2_year.rename(columns = {'original_publication_year' : 'Publication_Year', 'authors_2' : 'Authors'}, inplace = True)\n",
    "author3_year.rename(columns = {'original_publication_year' : 'Publication_Year', 'authors_3' : 'Authors'}, inplace = True)\n",
    "author4_year.rename(columns = {'original_publication_year' : 'Publication_Year', 'authors_4' : 'Authors'}, inplace = True)\n",
    "author5_year.rename(columns = {'original_publication_year' : 'Publication_Year', 'authors_5' : 'Authors'}, inplace = True)"
   ]
  },
  {
   "cell_type": "code",
   "execution_count": 45,
   "metadata": {},
   "outputs": [
    {
     "data": {
      "text/html": [
       "<div>\n",
       "<style scoped>\n",
       "    .dataframe tbody tr th:only-of-type {\n",
       "        vertical-align: middle;\n",
       "    }\n",
       "\n",
       "    .dataframe tbody tr th {\n",
       "        vertical-align: top;\n",
       "    }\n",
       "\n",
       "    .dataframe thead th {\n",
       "        text-align: right;\n",
       "    }\n",
       "</style>\n",
       "<table border=\"1\" class=\"dataframe\">\n",
       "  <thead>\n",
       "    <tr style=\"text-align: right;\">\n",
       "      <th></th>\n",
       "      <th>Publication_Year</th>\n",
       "      <th>Authors</th>\n",
       "      <th>Max_reviews</th>\n",
       "    </tr>\n",
       "  </thead>\n",
       "  <tbody>\n",
       "    <tr>\n",
       "      <th>0</th>\n",
       "      <td>-720.0</td>\n",
       "      <td>Homer</td>\n",
       "      <td>1620.2</td>\n",
       "    </tr>\n",
       "    <tr>\n",
       "      <th>1</th>\n",
       "      <td>1595.0</td>\n",
       "      <td>William Shakespeare</td>\n",
       "      <td>7389.0</td>\n",
       "    </tr>\n",
       "  </tbody>\n",
       "</table>\n",
       "</div>"
      ],
      "text/plain": [
       "   Publication_Year              Authors  Max_reviews\n",
       "0            -720.0                Homer       1620.2\n",
       "1            1595.0  William Shakespeare       7389.0"
      ]
     },
     "execution_count": 45,
     "metadata": {},
     "output_type": "execute_result"
    }
   ],
   "source": [
    "#Concateno i dataset\n",
    "authors_year = pd.concat([author1_year, author2_year, author3_year, author4_year, author5_year])\n",
    "#Calcolo il max\n",
    "authors_year_max = authors_year.groupby(['Publication_Year']).max()\n",
    "#Cambio nome colonna\n",
    "authors_year_max.rename(columns = {'reviews_count_per_author' : 'Max_reviews'}, inplace = True)\n",
    "#Resetto l'indice\n",
    "authors_year_max.reset_index(inplace = True)\n",
    "authors_year_max.head(2)"
   ]
  },
  {
   "cell_type": "markdown",
   "metadata": {},
   "source": [
    "### 9. Assuming that there are no errors in the ISBN fields, find the books in both datasets, and compute the difference of average rating according to the ratings and the goodratings datasets"
   ]
  },
  {
   "cell_type": "code",
   "execution_count": 46,
   "metadata": {},
   "outputs": [
    {
     "data": {
      "text/html": [
       "<div>\n",
       "<style scoped>\n",
       "    .dataframe tbody tr th:only-of-type {\n",
       "        vertical-align: middle;\n",
       "    }\n",
       "\n",
       "    .dataframe tbody tr th {\n",
       "        vertical-align: top;\n",
       "    }\n",
       "\n",
       "    .dataframe thead th {\n",
       "        text-align: right;\n",
       "    }\n",
       "</style>\n",
       "<table border=\"1\" class=\"dataframe\">\n",
       "  <thead>\n",
       "    <tr style=\"text-align: right;\">\n",
       "      <th></th>\n",
       "      <th>ISBN</th>\n",
       "      <th>Book-Title</th>\n",
       "      <th>Book-Author</th>\n",
       "      <th>Year-Of-Publication</th>\n",
       "      <th>Publisher</th>\n",
       "      <th>Image-URL-S</th>\n",
       "      <th>Image-URL-M</th>\n",
       "      <th>Image-URL-L</th>\n",
       "      <th>Avg-Rating</th>\n",
       "      <th>book_id</th>\n",
       "      <th>...</th>\n",
       "      <th>work_text_reviews_count</th>\n",
       "      <th>ratings_1</th>\n",
       "      <th>ratings_2</th>\n",
       "      <th>ratings_3</th>\n",
       "      <th>ratings_4</th>\n",
       "      <th>ratings_5</th>\n",
       "      <th>image_url</th>\n",
       "      <th>small_image_url</th>\n",
       "      <th>avg_rating</th>\n",
       "      <th>Diff_rating_goodrating</th>\n",
       "    </tr>\n",
       "  </thead>\n",
       "  <tbody>\n",
       "    <tr>\n",
       "      <th>0</th>\n",
       "      <td>1400032717</td>\n",
       "      <td>The Curious Incident of the Dog in the Night-T...</td>\n",
       "      <td>Mark Haddon</td>\n",
       "      <td>2004</td>\n",
       "      <td>Vintage</td>\n",
       "      <td>http://images.amazon.com/images/P/1400032717.0...</td>\n",
       "      <td>http://images.amazon.com/images/P/1400032717.0...</td>\n",
       "      <td>http://images.amazon.com/images/P/1400032717.0...</td>\n",
       "      <td>4.813187</td>\n",
       "      <td>60</td>\n",
       "      <td>...</td>\n",
       "      <td>35796</td>\n",
       "      <td>21049</td>\n",
       "      <td>58117</td>\n",
       "      <td>218218</td>\n",
       "      <td>355925</td>\n",
       "      <td>262481</td>\n",
       "      <td>https://images.gr-assets.com/books/1479863624m...</td>\n",
       "      <td>https://images.gr-assets.com/books/1479863624s...</td>\n",
       "      <td>NaN</td>\n",
       "      <td>NaN</td>\n",
       "    </tr>\n",
       "    <tr>\n",
       "      <th>1</th>\n",
       "      <td>014028009X</td>\n",
       "      <td>Bridget Jones's Diary</td>\n",
       "      <td>Helen Fielding</td>\n",
       "      <td>1999</td>\n",
       "      <td>Penguin Books</td>\n",
       "      <td>http://images.amazon.com/images/P/014028009X.0...</td>\n",
       "      <td>http://images.amazon.com/images/P/014028009X.0...</td>\n",
       "      <td>http://images.amazon.com/images/P/014028009X.0...</td>\n",
       "      <td>3.751852</td>\n",
       "      <td>75</td>\n",
       "      <td>...</td>\n",
       "      <td>8157</td>\n",
       "      <td>28973</td>\n",
       "      <td>59309</td>\n",
       "      <td>198555</td>\n",
       "      <td>254836</td>\n",
       "      <td>212825</td>\n",
       "      <td>https://images.gr-assets.com/books/1292060045m...</td>\n",
       "      <td>https://images.gr-assets.com/books/1292060045s...</td>\n",
       "      <td>NaN</td>\n",
       "      <td>NaN</td>\n",
       "    </tr>\n",
       "  </tbody>\n",
       "</table>\n",
       "<p>2 rows × 34 columns</p>\n",
       "</div>"
      ],
      "text/plain": [
       "         ISBN                                         Book-Title  \\\n",
       "0  1400032717  The Curious Incident of the Dog in the Night-T...   \n",
       "1  014028009X                              Bridget Jones's Diary   \n",
       "\n",
       "      Book-Author Year-Of-Publication      Publisher  \\\n",
       "0     Mark Haddon                2004        Vintage   \n",
       "1  Helen Fielding                1999  Penguin Books   \n",
       "\n",
       "                                         Image-URL-S  \\\n",
       "0  http://images.amazon.com/images/P/1400032717.0...   \n",
       "1  http://images.amazon.com/images/P/014028009X.0...   \n",
       "\n",
       "                                         Image-URL-M  \\\n",
       "0  http://images.amazon.com/images/P/1400032717.0...   \n",
       "1  http://images.amazon.com/images/P/014028009X.0...   \n",
       "\n",
       "                                         Image-URL-L  Avg-Rating  book_id  \\\n",
       "0  http://images.amazon.com/images/P/1400032717.0...    4.813187       60   \n",
       "1  http://images.amazon.com/images/P/014028009X.0...    3.751852       75   \n",
       "\n",
       "   ...  work_text_reviews_count  ratings_1  ratings_2  ratings_3 ratings_4  \\\n",
       "0  ...                    35796      21049      58117     218218    355925   \n",
       "1  ...                     8157      28973      59309     198555    254836   \n",
       "\n",
       "   ratings_5                                          image_url  \\\n",
       "0     262481  https://images.gr-assets.com/books/1479863624m...   \n",
       "1     212825  https://images.gr-assets.com/books/1292060045m...   \n",
       "\n",
       "                                     small_image_url avg_rating  \\\n",
       "0  https://images.gr-assets.com/books/1479863624s...        NaN   \n",
       "1  https://images.gr-assets.com/books/1292060045s...        NaN   \n",
       "\n",
       "  Diff_rating_goodrating  \n",
       "0                    NaN  \n",
       "1                    NaN  \n",
       "\n",
       "[2 rows x 34 columns]"
      ]
     },
     "execution_count": 46,
     "metadata": {},
     "output_type": "execute_result"
    }
   ],
   "source": [
    "#Considero i dataset: merge_books_avg_ratings e merge_goodbooks_avg_ratings, ovviamente i valori nulli\n",
    "#danno problemi nel fare la differenza\n",
    "both_books_diff_avg = pd.merge(merge_books_avg_ratings, merge_goodbooks_avg_ratings, left_on = 'ISBN', right_on = 'isbn')\n",
    "both_books_diff_avg['Diff_rating_goodrating'] = both_books_diff_avg['Avg-Rating'] - both_books_diff_avg['avg_rating']\n",
    "both_books_diff_avg.head(2)"
   ]
  },
  {
   "cell_type": "code",
   "execution_count": 47,
   "metadata": {},
   "outputs": [
    {
     "data": {
      "text/html": [
       "<div>\n",
       "<style scoped>\n",
       "    .dataframe tbody tr th:only-of-type {\n",
       "        vertical-align: middle;\n",
       "    }\n",
       "\n",
       "    .dataframe tbody tr th {\n",
       "        vertical-align: top;\n",
       "    }\n",
       "\n",
       "    .dataframe thead th {\n",
       "        text-align: right;\n",
       "    }\n",
       "</style>\n",
       "<table border=\"1\" class=\"dataframe\">\n",
       "  <thead>\n",
       "    <tr style=\"text-align: right;\">\n",
       "      <th></th>\n",
       "      <th>ISBN</th>\n",
       "      <th>Book-Title</th>\n",
       "      <th>Book-Author</th>\n",
       "      <th>Year-Of-Publication</th>\n",
       "      <th>Publisher</th>\n",
       "      <th>Image-URL-S</th>\n",
       "      <th>Image-URL-M</th>\n",
       "      <th>Image-URL-L</th>\n",
       "      <th>Avg-Rating</th>\n",
       "      <th>book_id</th>\n",
       "      <th>...</th>\n",
       "      <th>work_text_reviews_count</th>\n",
       "      <th>ratings_1</th>\n",
       "      <th>ratings_2</th>\n",
       "      <th>ratings_3</th>\n",
       "      <th>ratings_4</th>\n",
       "      <th>ratings_5</th>\n",
       "      <th>image_url</th>\n",
       "      <th>small_image_url</th>\n",
       "      <th>avg_rating</th>\n",
       "      <th>Diff_rating_goodrating</th>\n",
       "    </tr>\n",
       "  </thead>\n",
       "  <tbody>\n",
       "    <tr>\n",
       "      <th>0</th>\n",
       "      <td>043965548X</td>\n",
       "      <td>Harry Potter and the Prisoner of Azkaban (Harr...</td>\n",
       "      <td>J.K. Rowling</td>\n",
       "      <td>2004</td>\n",
       "      <td>Scholastic Paperbacks</td>\n",
       "      <td>http://images.amazon.com/images/P/043965548X.0...</td>\n",
       "      <td>http://images.amazon.com/images/P/043965548X.0...</td>\n",
       "      <td>http://images.amazon.com/images/P/043965548X.0...</td>\n",
       "      <td>3.533333</td>\n",
       "      <td>18</td>\n",
       "      <td>...</td>\n",
       "      <td>36099</td>\n",
       "      <td>6716</td>\n",
       "      <td>20413</td>\n",
       "      <td>166129</td>\n",
       "      <td>509447</td>\n",
       "      <td>1266670</td>\n",
       "      <td>https://images.gr-assets.com/books/1499277281m...</td>\n",
       "      <td>https://images.gr-assets.com/books/1499277281s...</td>\n",
       "      <td>5.0</td>\n",
       "      <td>-1.466667</td>\n",
       "    </tr>\n",
       "  </tbody>\n",
       "</table>\n",
       "<p>1 rows × 34 columns</p>\n",
       "</div>"
      ],
      "text/plain": [
       "         ISBN                                         Book-Title  \\\n",
       "0  043965548X  Harry Potter and the Prisoner of Azkaban (Harr...   \n",
       "\n",
       "    Book-Author Year-Of-Publication              Publisher  \\\n",
       "0  J.K. Rowling                2004  Scholastic Paperbacks   \n",
       "\n",
       "                                         Image-URL-S  \\\n",
       "0  http://images.amazon.com/images/P/043965548X.0...   \n",
       "\n",
       "                                         Image-URL-M  \\\n",
       "0  http://images.amazon.com/images/P/043965548X.0...   \n",
       "\n",
       "                                         Image-URL-L  Avg-Rating  book_id  \\\n",
       "0  http://images.amazon.com/images/P/043965548X.0...    3.533333       18   \n",
       "\n",
       "   ...  work_text_reviews_count  ratings_1  ratings_2  ratings_3 ratings_4  \\\n",
       "0  ...                    36099       6716      20413     166129    509447   \n",
       "\n",
       "   ratings_5                                          image_url  \\\n",
       "0    1266670  https://images.gr-assets.com/books/1499277281m...   \n",
       "\n",
       "                                     small_image_url avg_rating  \\\n",
       "0  https://images.gr-assets.com/books/1499277281s...        5.0   \n",
       "\n",
       "  Diff_rating_goodrating  \n",
       "0              -1.466667  \n",
       "\n",
       "[1 rows x 34 columns]"
      ]
     },
     "execution_count": 47,
     "metadata": {},
     "output_type": "execute_result"
    }
   ],
   "source": [
    "#Considero i dataset: merge_book_avg_noleft e merge_goodbooks_avg_noleft, in questo caso non ci sono\n",
    "#valori nulli\n",
    "both_books_diff_nonull = pd.merge(merge_books_avg_noleft, merge_goodbooks_avg_noleft, left_on = 'ISBN', right_on = 'isbn')\n",
    "both_books_diff_nonull['Diff_rating_goodrating'] = both_books_diff_nonull['Avg-Rating'] - both_books_diff_nonull['avg_rating']\n",
    "both_books_diff_nonull.head(2)"
   ]
  },
  {
   "cell_type": "markdown",
   "metadata": {},
   "source": [
    "### 10. Split the users dataset according to the age. One dataset contains the users with unknown age, one with age 0-14, one with age 15-24, one with age 25-34, and so on."
   ]
  },
  {
   "cell_type": "code",
   "execution_count": 48,
   "metadata": {},
   "outputs": [],
   "source": [
    "#Divido il dataset in vari dataframe in base all'età\n",
    "users_na = users[users['Age'].isnull()] #non hanno l'età\n",
    "users0_14 = users[(users['Age'] >= 0) & (users['Age'] <= 14)] #età 0-14\n",
    "users15_24 = users[(users['Age'] >= 15) & (users['Age'] <= 24)] #età 15-24\n",
    "users25_34 = users[(users['Age'] >= 25) & (users['Age'] <= 34)] #età 25-34\n",
    "users35_44 = users[(users['Age'] >= 35) & (users['Age'] <= 44)] #età 35-44\n",
    "users45_54 = users[(users['Age'] >= 45) & (users['Age'] <= 54)] #età 45-54\n",
    "users55_64 = users[(users['Age'] >= 55) & (users['Age'] <= 64)] #età 55-64\n",
    "users65_74 = users[(users['Age'] >= 65) & (users['Age'] <= 74)] #età 65-74\n",
    "users75_84 = users[(users['Age'] >= 75) & (users['Age'] <= 84)] #età 75-84\n",
    "users85_94 = users[(users['Age'] >= 85) & (users['Age'] <= 94)] #età 85-94\n",
    "users95_104 = users[(users['Age'] >= 95) & (users['Age'] <= 104)] #età 95-104"
   ]
  },
  {
   "cell_type": "code",
   "execution_count": 49,
   "metadata": {},
   "outputs": [
    {
     "name": "stdout",
     "output_type": "stream",
     "text": [
      "Gli utenti senza età sono: 110762\n",
      "Gli utenti con età 0-14 sono: 4313\n",
      "Gli utenti con età 15-24 sono: 40001\n",
      "Gli utenti con età 25-34 sono: 50767\n",
      "Gli utenti con età 35-44 sono: 32690\n",
      "Gli utenti con età 45-54 sono: 23152\n",
      "Gli utenti con età 55-64 sono: 12493\n",
      "Gli utenti con età 65-74 sono: 3596\n",
      "Gli utenti con età 75-84 sono: 615\n",
      "Gli utenti con età 85-94 sono: 83\n",
      "Gli utenti con età 95-104 sono: 278\n"
     ]
    }
   ],
   "source": [
    "print(f\"Gli utenti senza età sono: {len(users_na)}\")\n",
    "print(f\"Gli utenti con età 0-14 sono: {len(users0_14)}\")\n",
    "print(f\"Gli utenti con età 15-24 sono: {len(users15_24)}\")\n",
    "print(f\"Gli utenti con età 25-34 sono: {len(users25_34)}\")\n",
    "print(f\"Gli utenti con età 35-44 sono: {len(users35_44)}\")\n",
    "print(f\"Gli utenti con età 45-54 sono: {len(users45_54)}\")\n",
    "print(f\"Gli utenti con età 55-64 sono: {len(users55_64)}\")\n",
    "print(f\"Gli utenti con età 65-74 sono: {len(users65_74)}\")\n",
    "print(f\"Gli utenti con età 75-84 sono: {len(users75_84)}\")\n",
    "print(f\"Gli utenti con età 85-94 sono: {len(users85_94)}\")\n",
    "print(f\"Gli utenti con età 95-104 sono: {len(users95_104)}\")"
   ]
  },
  {
   "cell_type": "markdown",
   "metadata": {},
   "source": [
    "### 11. Find the books that appear only in the goodbooks datasets."
   ]
  },
  {
   "cell_type": "code",
   "execution_count": 50,
   "metadata": {
    "scrolled": true
   },
   "outputs": [
    {
     "data": {
      "text/html": [
       "<div>\n",
       "<style scoped>\n",
       "    .dataframe tbody tr th:only-of-type {\n",
       "        vertical-align: middle;\n",
       "    }\n",
       "\n",
       "    .dataframe tbody tr th {\n",
       "        vertical-align: top;\n",
       "    }\n",
       "\n",
       "    .dataframe thead th {\n",
       "        text-align: right;\n",
       "    }\n",
       "</style>\n",
       "<table border=\"1\" class=\"dataframe\">\n",
       "  <thead>\n",
       "    <tr style=\"text-align: right;\">\n",
       "      <th></th>\n",
       "      <th>book_id</th>\n",
       "      <th>isbn</th>\n",
       "      <th>authors</th>\n",
       "      <th>original_publication_year</th>\n",
       "      <th>original_title</th>\n",
       "    </tr>\n",
       "  </thead>\n",
       "  <tbody>\n",
       "    <tr>\n",
       "      <th>0</th>\n",
       "      <td>1</td>\n",
       "      <td>439023483</td>\n",
       "      <td>Suzanne Collins</td>\n",
       "      <td>2008.0</td>\n",
       "      <td>The Hunger Games</td>\n",
       "    </tr>\n",
       "    <tr>\n",
       "      <th>1</th>\n",
       "      <td>2</td>\n",
       "      <td>439554934</td>\n",
       "      <td>J.K. Rowling, Mary GrandPrÃ©</td>\n",
       "      <td>1997.0</td>\n",
       "      <td>Harry Potter and the Philosopher's Stone</td>\n",
       "    </tr>\n",
       "  </tbody>\n",
       "</table>\n",
       "</div>"
      ],
      "text/plain": [
       "   book_id       isbn                       authors  \\\n",
       "0        1  439023483               Suzanne Collins   \n",
       "1        2  439554934  J.K. Rowling, Mary GrandPrÃ©   \n",
       "\n",
       "   original_publication_year                            original_title  \n",
       "0                     2008.0                          The Hunger Games  \n",
       "1                     1997.0  Harry Potter and the Philosopher's Stone  "
      ]
     },
     "execution_count": 50,
     "metadata": {},
     "output_type": "execute_result"
    }
   ],
   "source": [
    "#Faccio un left outer join tra la tabella goodbooks e books, left perché voglio mantenere tutti i \n",
    "#libri di goodbooks\n",
    "goodbooks_only = goodbooks.merge(books, left_on = 'isbn', right_on = 'ISBN', how = 'left')\n",
    "#Elimino le righe che sono in comune con l'altro dataset, quindi quelle con ISBN non nullo\n",
    "goodbooks_only.drop(goodbooks_only.index[goodbooks_only['ISBN'].notnull()], inplace = True)\n",
    "#Resetto l'indice\n",
    "goodbooks_only.reset_index(inplace = True, drop = True)\n",
    "goodbooks_only[['book_id', 'isbn', 'authors', 'original_publication_year', 'original_title']].head(2)"
   ]
  },
  {
   "cell_type": "markdown",
   "metadata": {},
   "source": [
    "### 12. Assuming that each pair (author, title) identifies a book, for each book find the number of times it appears in the books dataset. Which books appear the most times?"
   ]
  },
  {
   "cell_type": "code",
   "execution_count": 51,
   "metadata": {
    "scrolled": true
   },
   "outputs": [
    {
     "data": {
      "text/html": [
       "<div>\n",
       "<style scoped>\n",
       "    .dataframe tbody tr th:only-of-type {\n",
       "        vertical-align: middle;\n",
       "    }\n",
       "\n",
       "    .dataframe tbody tr th {\n",
       "        vertical-align: top;\n",
       "    }\n",
       "\n",
       "    .dataframe thead th {\n",
       "        text-align: right;\n",
       "    }\n",
       "</style>\n",
       "<table border=\"1\" class=\"dataframe\">\n",
       "  <thead>\n",
       "    <tr style=\"text-align: right;\">\n",
       "      <th></th>\n",
       "      <th></th>\n",
       "      <th>Num_time_appear</th>\n",
       "    </tr>\n",
       "    <tr>\n",
       "      <th>Book-Author</th>\n",
       "      <th>Book-Title</th>\n",
       "      <th></th>\n",
       "    </tr>\n",
       "  </thead>\n",
       "  <tbody>\n",
       "    <tr>\n",
       "      <th>Louisa May Alcott</th>\n",
       "      <th>Little Women</th>\n",
       "      <td>21</td>\n",
       "    </tr>\n",
       "    <tr>\n",
       "      <th>Emily Bronte</th>\n",
       "      <th>Wuthering Heights</th>\n",
       "      <td>20</td>\n",
       "    </tr>\n",
       "    <tr>\n",
       "      <th>Mark Twain</th>\n",
       "      <th>Adventures of Huckleberry Finn</th>\n",
       "      <td>20</td>\n",
       "    </tr>\n",
       "    <tr>\n",
       "      <th>Jane Austen</th>\n",
       "      <th>Pride and Prejudice</th>\n",
       "      <td>18</td>\n",
       "    </tr>\n",
       "    <tr>\n",
       "      <th>Frances Hodgson Burnett</th>\n",
       "      <th>The Secret Garden</th>\n",
       "      <td>16</td>\n",
       "    </tr>\n",
       "    <tr>\n",
       "      <th>Bram Stoker</th>\n",
       "      <th>Dracula</th>\n",
       "      <td>16</td>\n",
       "    </tr>\n",
       "    <tr>\n",
       "      <th>Charlotte Bronte</th>\n",
       "      <th>Jane Eyre</th>\n",
       "      <td>16</td>\n",
       "    </tr>\n",
       "    <tr>\n",
       "      <th>Charles Dickens</th>\n",
       "      <th>Great Expectations</th>\n",
       "      <td>16</td>\n",
       "    </tr>\n",
       "    <tr>\n",
       "      <th>Anna Sewell</th>\n",
       "      <th>Black Beauty</th>\n",
       "      <td>14</td>\n",
       "    </tr>\n",
       "    <tr>\n",
       "      <th>Jane Austen</th>\n",
       "      <th>Emma</th>\n",
       "      <td>13</td>\n",
       "    </tr>\n",
       "  </tbody>\n",
       "</table>\n",
       "</div>"
      ],
      "text/plain": [
       "                                                        Num_time_appear\n",
       "Book-Author             Book-Title                                     \n",
       "Louisa May Alcott       Little Women                                 21\n",
       "Emily Bronte            Wuthering Heights                            20\n",
       "Mark Twain              Adventures of Huckleberry Finn               20\n",
       "Jane Austen             Pride and Prejudice                          18\n",
       "Frances Hodgson Burnett The Secret Garden                            16\n",
       "Bram Stoker             Dracula                                      16\n",
       "Charlotte Bronte        Jane Eyre                                    16\n",
       "Charles Dickens         Great Expectations                           16\n",
       "Anna Sewell             Black Beauty                                 14\n",
       "Jane Austen             Emma                                         13"
      ]
     },
     "execution_count": 51,
     "metadata": {},
     "output_type": "execute_result"
    }
   ],
   "source": [
    "#Raggruppo i libri per Book-Author e Book-Title e conto quanti ISBN ci sono\n",
    "books_authors_title = books.groupby(['Book-Author', 'Book-Title'])[['ISBN']].count()\n",
    "#Cambio il nome di una colonna\n",
    "books_authors_title.rename(columns = {'ISBN' : 'Num_time_appear'}, inplace = True)\n",
    "#Riordino il dataset in ordine decrescente in base ai valori di Num_time_appear\n",
    "books_authors_title.sort_values(by='Num_time_appear',ascending = False, inplace = True)\n",
    "books_authors_title.head(10)"
   ]
  },
  {
   "cell_type": "markdown",
   "metadata": {},
   "source": [
    "### 13. Find the author with the highest average rating according to the goodbooks datasets."
   ]
  },
  {
   "cell_type": "code",
   "execution_count": 52,
   "metadata": {},
   "outputs": [],
   "source": [
    "#Come fatto in precedenza raggruppo per i vari autori in 5 diversi dataframe e faccio la media della\n",
    "#colonna average_ratings (già presente nel dataset goodbooks)\n",
    "auth1 = goodbooks_authors_divided.groupby('authors_1')[['average_rating']].mean()\n",
    "auth2 = goodbooks_authors_divided.groupby('authors_2')[['average_rating']].mean()\n",
    "auth3 = goodbooks_authors_divided.groupby('authors_3')[['average_rating']].mean()\n",
    "auth4 = goodbooks_authors_divided.groupby('authors_4')[['average_rating']].mean()\n",
    "auth5 = goodbooks_authors_divided.groupby('authors_5')[['average_rating']].mean()"
   ]
  },
  {
   "cell_type": "code",
   "execution_count": 53,
   "metadata": {},
   "outputs": [],
   "source": [
    "#Resetto l'indice\n",
    "auth1.reset_index(inplace = True)\n",
    "auth2.reset_index(inplace = True)\n",
    "auth3.reset_index(inplace = True)\n",
    "auth4.reset_index(inplace = True)\n",
    "auth5.reset_index(inplace = True)"
   ]
  },
  {
   "cell_type": "code",
   "execution_count": 54,
   "metadata": {},
   "outputs": [],
   "source": [
    "#Cambio il nome di una colonna\n",
    "auth1.rename(columns = {'authors_1' : 'Authors'}, inplace = True)\n",
    "auth2.rename(columns = {'authors_2' : 'Authors'}, inplace = True)\n",
    "auth3.rename(columns = {'authors_3' : 'Authors'}, inplace = True)\n",
    "auth4.rename(columns = {'authors_4' : 'Authors'}, inplace = True)\n",
    "auth5.rename(columns = {'authors_5' : 'Authors'}, inplace = True)"
   ]
  },
  {
   "cell_type": "code",
   "execution_count": 55,
   "metadata": {},
   "outputs": [
    {
     "data": {
      "text/html": [
       "<div>\n",
       "<style scoped>\n",
       "    .dataframe tbody tr th:only-of-type {\n",
       "        vertical-align: middle;\n",
       "    }\n",
       "\n",
       "    .dataframe tbody tr th {\n",
       "        vertical-align: top;\n",
       "    }\n",
       "\n",
       "    .dataframe thead th {\n",
       "        text-align: right;\n",
       "    }\n",
       "</style>\n",
       "<table border=\"1\" class=\"dataframe\">\n",
       "  <thead>\n",
       "    <tr style=\"text-align: right;\">\n",
       "      <th></th>\n",
       "      <th>Authors</th>\n",
       "      <th>average_rating</th>\n",
       "    </tr>\n",
       "  </thead>\n",
       "  <tbody>\n",
       "    <tr>\n",
       "      <th>0</th>\n",
       "      <td>Alan R. Clarke</td>\n",
       "      <td>3.82</td>\n",
       "    </tr>\n",
       "    <tr>\n",
       "      <th>1</th>\n",
       "      <td>B.M. Mooyaart-Doubleday</td>\n",
       "      <td>4.10</td>\n",
       "    </tr>\n",
       "  </tbody>\n",
       "</table>\n",
       "</div>"
      ],
      "text/plain": [
       "                    Authors  average_rating\n",
       "0            Alan R. Clarke            3.82\n",
       "1   B.M. Mooyaart-Doubleday            4.10"
      ]
     },
     "execution_count": 55,
     "metadata": {},
     "output_type": "execute_result"
    }
   ],
   "source": [
    "#Concateno i dataset in un unico\n",
    "authors_avg = pd.concat([auth1, auth2, auth3, auth4, auth5])\n",
    "#Raggruppo di nuovo e ricalcolo la media perché potrebbero esserci gli stessi autori\n",
    "authors_avg_ratings = authors_avg.groupby('Authors')[['average_rating']].mean()\n",
    "#Resetto l'indice\n",
    "authors_avg_ratings.reset_index(inplace = True)\n",
    "authors_avg_ratings.head(2)"
   ]
  },
  {
   "cell_type": "code",
   "execution_count": 56,
   "metadata": {},
   "outputs": [
    {
     "data": {
      "text/html": [
       "<div>\n",
       "<style scoped>\n",
       "    .dataframe tbody tr th:only-of-type {\n",
       "        vertical-align: middle;\n",
       "    }\n",
       "\n",
       "    .dataframe tbody tr th {\n",
       "        vertical-align: top;\n",
       "    }\n",
       "\n",
       "    .dataframe thead th {\n",
       "        text-align: right;\n",
       "    }\n",
       "</style>\n",
       "<table border=\"1\" class=\"dataframe\">\n",
       "  <thead>\n",
       "    <tr style=\"text-align: right;\">\n",
       "      <th></th>\n",
       "      <th>Authors</th>\n",
       "      <th>average_rating</th>\n",
       "    </tr>\n",
       "  </thead>\n",
       "  <tbody>\n",
       "    <tr>\n",
       "      <th>32</th>\n",
       "      <td>Rufus Beck</td>\n",
       "      <td>4.53</td>\n",
       "    </tr>\n",
       "  </tbody>\n",
       "</table>\n",
       "</div>"
      ],
      "text/plain": [
       "        Authors  average_rating\n",
       "32   Rufus Beck            4.53"
      ]
     },
     "execution_count": 56,
     "metadata": {},
     "output_type": "execute_result"
    }
   ],
   "source": [
    "#L'autore con il massimo valore di average_rating\n",
    "authors_avg_ratings.iloc[[authors_avg_ratings['average_rating'].idxmax()]]"
   ]
  }
 ],
 "metadata": {
  "kernelspec": {
   "display_name": "Python 3",
   "language": "python",
   "name": "python3"
  },
  "language_info": {
   "codemirror_mode": {
    "name": "ipython",
    "version": 3
   },
   "file_extension": ".py",
   "mimetype": "text/x-python",
   "name": "python",
   "nbconvert_exporter": "python",
   "pygments_lexer": "ipython3",
   "version": "3.8.8"
  }
 },
 "nbformat": 4,
 "nbformat_minor": 4
}
